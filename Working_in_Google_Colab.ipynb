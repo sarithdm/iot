{
  "nbformat": 4,
  "nbformat_minor": 0,
  "metadata": {
    "kernelspec": {
      "name": "python3",
      "display_name": "Python 3",
      "language": "python"
    },
    "language_info": {
      "name": "python",
      "version": "3.6.6",
      "mimetype": "text/x-python",
      "codemirror_mode": {
        "name": "ipython",
        "version": 3
      },
      "pygments_lexer": "ipython3",
      "nbconvert_exporter": "python",
      "file_extension": ".py"
    },
    "colab": {
      "name": "Working in Google Colab",
      "provenance": []
    }
  },
  "cells": [
    {
      "cell_type": "markdown",
      "metadata": {
        "id": "SbPDbvq7ZlYR"
      },
      "source": [
        "#Energy Usage Prediction using LSTM"
      ]
    },
    {
      "cell_type": "code",
      "metadata": {
        "colab": {
          "base_uri": "https://localhost:8080/"
        },
        "id": "WJuySkS_YLXi",
        "outputId": "01534691-cd63-4b92-925c-2357828bda89"
      },
      "source": [
        "from google.colab import drive\n",
        "drive.mount('/content/drive')"
      ],
      "execution_count": null,
      "outputs": [
        {
          "output_type": "stream",
          "text": [
            "Mounted at /content/drive\n"
          ],
          "name": "stdout"
        }
      ]
    },
    {
      "cell_type": "code",
      "metadata": {
        "colab": {
          "base_uri": "https://localhost:8080/"
        },
        "id": "dhVUds_tYVmR",
        "outputId": "62825d9c-c5db-4c78-9efe-ad0d07d74ed1"
      },
      "source": [
        "!unzip drive/MyDrive/HomeC.csv.zip"
      ],
      "execution_count": null,
      "outputs": [
        {
          "output_type": "stream",
          "text": [
            "Archive:  drive/MyDrive/HomeC.csv.zip\n",
            "  inflating: HomeC.csv               \n"
          ],
          "name": "stdout"
        }
      ]
    },
    {
      "cell_type": "markdown",
      "metadata": {
        "id": "z1o8lFF7ZtDZ"
      },
      "source": [
        "#Import Packages"
      ]
    },
    {
      "cell_type": "code",
      "metadata": {
        "trusted": true,
        "id": "i8lJ9ivfW725"
      },
      "source": [
        "## NumPy is a package in Python used for Scientific Computing. NumPy package is used to perform different operations. The ndarray (NumPy Array) is a multidimensional array used to store values of same datatype.\n",
        "import numpy as np\n",
        "## Pandas is a Python package providing fast, flexible, and expressive data structures designed to make working with “relational” or “labeled” data both easy and intuitive. It aims to be the fundamental high-level building block for doing practical, real world data analysis in Python.\n",
        "import pandas as pd\n",
        "## Matplotlib is a Python 2D plotting library which produces publication quality figures in a variety of hardcopy formats and interactive environments across platforms. Matplotlib can be used in Python scripts, the Python and IPython shells, the Jupyter notebook, web application servers, and four graphical user interface toolkits.\n",
        "import matplotlib\n",
        "import matplotlib.pyplot as plt\n",
        "## Seaborn is a Python data visualization library based on matplotlib. It provides a high-level interface for drawing attractive and informative statistical graphics.\n",
        "import seaborn as sns"
      ],
      "execution_count": null,
      "outputs": []
    },
    {
      "cell_type": "code",
      "metadata": {
        "trusted": true,
        "id": "D3CpTHwbW72_"
      },
      "source": [
        "## `%matplotlib` is a magic function in IPython. With this, the output of plotting commands is displayed inline within frontends like the Jupyter notebook, directly below the code cell that produced it. The resulting plots will then also be stored in the notebook document.\n",
        "%matplotlib inline"
      ],
      "execution_count": null,
      "outputs": []
    },
    {
      "cell_type": "markdown",
      "metadata": {
        "id": "iGHRkCK4ZxDa"
      },
      "source": [
        "#Dataset Analysis"
      ]
    },
    {
      "cell_type": "code",
      "metadata": {
        "trusted": true,
        "colab": {
          "base_uri": "https://localhost:8080/"
        },
        "id": "DiIVeQO4W73A",
        "outputId": "ad651cd1-8e50-4771-d72b-9a42180f3db7"
      },
      "source": [
        "## pandas.read_csv: Read a comma-separated values (csv) file into DataFrame.\n",
        "file_path = \"HomeC.csv\"\n",
        "dataset = pd.read_csv(file_path, low_memory=False)\n",
        "dataset.info()"
      ],
      "execution_count": null,
      "outputs": [
        {
          "output_type": "stream",
          "text": [
            "<class 'pandas.core.frame.DataFrame'>\n",
            "RangeIndex: 503911 entries, 0 to 503910\n",
            "Data columns (total 32 columns):\n",
            " #   Column               Non-Null Count   Dtype  \n",
            "---  ------               --------------   -----  \n",
            " 0   time                 503911 non-null  object \n",
            " 1   use [kW]             503910 non-null  float64\n",
            " 2   gen [kW]             503910 non-null  float64\n",
            " 3   House overall [kW]   503910 non-null  float64\n",
            " 4   Dishwasher [kW]      503910 non-null  float64\n",
            " 5   Furnace 1 [kW]       503910 non-null  float64\n",
            " 6   Furnace 2 [kW]       503910 non-null  float64\n",
            " 7   Home office [kW]     503910 non-null  float64\n",
            " 8   Fridge [kW]          503910 non-null  float64\n",
            " 9   Wine cellar [kW]     503910 non-null  float64\n",
            " 10  Garage door [kW]     503910 non-null  float64\n",
            " 11  Kitchen 12 [kW]      503910 non-null  float64\n",
            " 12  Kitchen 14 [kW]      503910 non-null  float64\n",
            " 13  Kitchen 38 [kW]      503910 non-null  float64\n",
            " 14  Barn [kW]            503910 non-null  float64\n",
            " 15  Well [kW]            503910 non-null  float64\n",
            " 16  Microwave [kW]       503910 non-null  float64\n",
            " 17  Living room [kW]     503910 non-null  float64\n",
            " 18  Solar [kW]           503910 non-null  float64\n",
            " 19  temperature          503910 non-null  float64\n",
            " 20  icon                 503910 non-null  object \n",
            " 21  humidity             503910 non-null  float64\n",
            " 22  visibility           503910 non-null  float64\n",
            " 23  summary              503910 non-null  object \n",
            " 24  apparentTemperature  503910 non-null  float64\n",
            " 25  pressure             503910 non-null  float64\n",
            " 26  windSpeed            503910 non-null  float64\n",
            " 27  cloudCover           503910 non-null  object \n",
            " 28  windBearing          503910 non-null  float64\n",
            " 29  precipIntensity      503910 non-null  float64\n",
            " 30  dewPoint             503910 non-null  float64\n",
            " 31  precipProbability    503910 non-null  float64\n",
            "dtypes: float64(28), object(4)\n",
            "memory usage: 123.0+ MB\n"
          ],
          "name": "stdout"
        }
      ]
    }
  ]
}