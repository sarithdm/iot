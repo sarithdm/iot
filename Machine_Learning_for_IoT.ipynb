{
  "nbformat": 4,
  "nbformat_minor": 0,
  "metadata": {
    "kernelspec": {
      "name": "python3",
      "display_name": "Python 3",
      "language": "python"
    },
    "language_info": {
      "name": "python",
      "version": "3.6.6",
      "mimetype": "text/x-python",
      "codemirror_mode": {
        "name": "ipython",
        "version": 3
      },
      "pygments_lexer": "ipython3",
      "nbconvert_exporter": "python",
      "file_extension": ".py"
    },
    "colab": {
      "name": "Machine Learning for IoT",
      "provenance": [],
      "collapsed_sections": []
    }
  },
  "cells": [
    {
      "cell_type": "markdown",
      "metadata": {
        "id": "SbPDbvq7ZlYR"
      },
      "source": [
        "#Energy Usage Prediction using LSTM"
      ]
    },
    {
      "cell_type": "code",
      "metadata": {
        "colab": {
          "base_uri": "https://localhost:8080/"
        },
        "id": "WJuySkS_YLXi",
        "outputId": "3b2b1e0e-1beb-4160-97c2-224cfc80b9ff"
      },
      "source": [
        "from google.colab import drive\n",
        "drive.mount('/content/drive')"
      ],
      "execution_count": 2,
      "outputs": [
        {
          "output_type": "stream",
          "text": [
            "Drive already mounted at /content/drive; to attempt to forcibly remount, call drive.mount(\"/content/drive\", force_remount=True).\n"
          ],
          "name": "stdout"
        }
      ]
    },
    {
      "cell_type": "code",
      "metadata": {
        "colab": {
          "base_uri": "https://localhost:8080/"
        },
        "id": "dhVUds_tYVmR",
        "outputId": "a7ded8f1-ea81-4f2a-aa0b-128f2edc2acc"
      },
      "source": [
        "!unzip drive/MyDrive/HomeC.csv.zip"
      ],
      "execution_count": 3,
      "outputs": [
        {
          "output_type": "stream",
          "text": [
            "Archive:  drive/MyDrive/HomeC.csv.zip\n",
            "  inflating: HomeC.csv               \n"
          ],
          "name": "stdout"
        }
      ]
    },
    {
      "cell_type": "markdown",
      "metadata": {
        "id": "z1o8lFF7ZtDZ"
      },
      "source": [
        "#Import Packages"
      ]
    },
    {
      "cell_type": "code",
      "metadata": {
        "trusted": true,
        "id": "i8lJ9ivfW725"
      },
      "source": [
        "## NumPy is a package in Python used for Scientific Computing. NumPy package is used to perform different operations. The ndarray (NumPy Array) is a multidimensional array used to store values of same datatype.\n",
        "import numpy as np\n",
        "## Pandas is a Python package providing fast, flexible, and expressive data structures designed to make working with “relational” or “labeled” data both easy and intuitive. It aims to be the fundamental high-level building block for doing practical, real world data analysis in Python.\n",
        "import pandas as pd\n",
        "## Matplotlib is a Python 2D plotting library which produces publication quality figures in a variety of hardcopy formats and interactive environments across platforms. Matplotlib can be used in Python scripts, the Python and IPython shells, the Jupyter notebook, web application servers, and four graphical user interface toolkits.\n",
        "import matplotlib\n",
        "import matplotlib.pyplot as plt\n",
        "## Seaborn is a Python data visualization library based on matplotlib. It provides a high-level interface for drawing attractive and informative statistical graphics.\n",
        "import seaborn as sns"
      ],
      "execution_count": 4,
      "outputs": []
    },
    {
      "cell_type": "code",
      "metadata": {
        "trusted": true,
        "id": "D3CpTHwbW72_"
      },
      "source": [
        "## `%matplotlib` is a magic function in IPython. With this, the output of plotting commands is displayed inline within frontends like the Jupyter notebook, directly below the code cell that produced it. The resulting plots will then also be stored in the notebook document.\n",
        "%matplotlib inline"
      ],
      "execution_count": 5,
      "outputs": []
    },
    {
      "cell_type": "markdown",
      "metadata": {
        "id": "iGHRkCK4ZxDa"
      },
      "source": [
        "#Dataset Analysis"
      ]
    },
    {
      "cell_type": "code",
      "metadata": {
        "trusted": true,
        "colab": {
          "base_uri": "https://localhost:8080/"
        },
        "id": "DiIVeQO4W73A",
        "outputId": "63cdf54e-fdaf-4e7c-fd82-56a115df86a0"
      },
      "source": [
        "dataset = pd.read_csv(\"HomeC.csv\")\n",
        "dataset.info()"
      ],
      "execution_count": 6,
      "outputs": [
        {
          "output_type": "stream",
          "text": [
            "/usr/local/lib/python3.6/dist-packages/IPython/core/interactiveshell.py:2718: DtypeWarning: Columns (0,27) have mixed types.Specify dtype option on import or set low_memory=False.\n",
            "  interactivity=interactivity, compiler=compiler, result=result)\n"
          ],
          "name": "stderr"
        },
        {
          "output_type": "stream",
          "text": [
            "<class 'pandas.core.frame.DataFrame'>\n",
            "RangeIndex: 503911 entries, 0 to 503910\n",
            "Data columns (total 32 columns):\n",
            " #   Column               Non-Null Count   Dtype  \n",
            "---  ------               --------------   -----  \n",
            " 0   time                 503911 non-null  object \n",
            " 1   use [kW]             503910 non-null  float64\n",
            " 2   gen [kW]             503910 non-null  float64\n",
            " 3   House overall [kW]   503910 non-null  float64\n",
            " 4   Dishwasher [kW]      503910 non-null  float64\n",
            " 5   Furnace 1 [kW]       503910 non-null  float64\n",
            " 6   Furnace 2 [kW]       503910 non-null  float64\n",
            " 7   Home office [kW]     503910 non-null  float64\n",
            " 8   Fridge [kW]          503910 non-null  float64\n",
            " 9   Wine cellar [kW]     503910 non-null  float64\n",
            " 10  Garage door [kW]     503910 non-null  float64\n",
            " 11  Kitchen 12 [kW]      503910 non-null  float64\n",
            " 12  Kitchen 14 [kW]      503910 non-null  float64\n",
            " 13  Kitchen 38 [kW]      503910 non-null  float64\n",
            " 14  Barn [kW]            503910 non-null  float64\n",
            " 15  Well [kW]            503910 non-null  float64\n",
            " 16  Microwave [kW]       503910 non-null  float64\n",
            " 17  Living room [kW]     503910 non-null  float64\n",
            " 18  Solar [kW]           503910 non-null  float64\n",
            " 19  temperature          503910 non-null  float64\n",
            " 20  icon                 503910 non-null  object \n",
            " 21  humidity             503910 non-null  float64\n",
            " 22  visibility           503910 non-null  float64\n",
            " 23  summary              503910 non-null  object \n",
            " 24  apparentTemperature  503910 non-null  float64\n",
            " 25  pressure             503910 non-null  float64\n",
            " 26  windSpeed            503910 non-null  float64\n",
            " 27  cloudCover           503910 non-null  object \n",
            " 28  windBearing          503910 non-null  float64\n",
            " 29  precipIntensity      503910 non-null  float64\n",
            " 30  dewPoint             503910 non-null  float64\n",
            " 31  precipProbability    503910 non-null  float64\n",
            "dtypes: float64(28), object(4)\n",
            "memory usage: 123.0+ MB\n"
          ],
          "name": "stdout"
        }
      ]
    },
    {
      "cell_type": "code",
      "metadata": {
        "trusted": true,
        "colab": {
          "base_uri": "https://localhost:8080/",
          "height": 343
        },
        "id": "xU822OgbW73B",
        "outputId": "9a86daf0-1707-4d00-cbf8-ba724f9fd596"
      },
      "source": [
        "dataset.head()"
      ],
      "execution_count": 7,
      "outputs": [
        {
          "output_type": "execute_result",
          "data": {
            "text/html": [
              "<div>\n",
              "<style scoped>\n",
              "    .dataframe tbody tr th:only-of-type {\n",
              "        vertical-align: middle;\n",
              "    }\n",
              "\n",
              "    .dataframe tbody tr th {\n",
              "        vertical-align: top;\n",
              "    }\n",
              "\n",
              "    .dataframe thead th {\n",
              "        text-align: right;\n",
              "    }\n",
              "</style>\n",
              "<table border=\"1\" class=\"dataframe\">\n",
              "  <thead>\n",
              "    <tr style=\"text-align: right;\">\n",
              "      <th></th>\n",
              "      <th>time</th>\n",
              "      <th>use [kW]</th>\n",
              "      <th>gen [kW]</th>\n",
              "      <th>House overall [kW]</th>\n",
              "      <th>Dishwasher [kW]</th>\n",
              "      <th>Furnace 1 [kW]</th>\n",
              "      <th>Furnace 2 [kW]</th>\n",
              "      <th>Home office [kW]</th>\n",
              "      <th>Fridge [kW]</th>\n",
              "      <th>Wine cellar [kW]</th>\n",
              "      <th>Garage door [kW]</th>\n",
              "      <th>Kitchen 12 [kW]</th>\n",
              "      <th>Kitchen 14 [kW]</th>\n",
              "      <th>Kitchen 38 [kW]</th>\n",
              "      <th>Barn [kW]</th>\n",
              "      <th>Well [kW]</th>\n",
              "      <th>Microwave [kW]</th>\n",
              "      <th>Living room [kW]</th>\n",
              "      <th>Solar [kW]</th>\n",
              "      <th>temperature</th>\n",
              "      <th>icon</th>\n",
              "      <th>humidity</th>\n",
              "      <th>visibility</th>\n",
              "      <th>summary</th>\n",
              "      <th>apparentTemperature</th>\n",
              "      <th>pressure</th>\n",
              "      <th>windSpeed</th>\n",
              "      <th>cloudCover</th>\n",
              "      <th>windBearing</th>\n",
              "      <th>precipIntensity</th>\n",
              "      <th>dewPoint</th>\n",
              "      <th>precipProbability</th>\n",
              "    </tr>\n",
              "  </thead>\n",
              "  <tbody>\n",
              "    <tr>\n",
              "      <th>0</th>\n",
              "      <td>1451624400</td>\n",
              "      <td>0.932833</td>\n",
              "      <td>0.003483</td>\n",
              "      <td>0.932833</td>\n",
              "      <td>0.000033</td>\n",
              "      <td>0.020700</td>\n",
              "      <td>0.061917</td>\n",
              "      <td>0.442633</td>\n",
              "      <td>0.124150</td>\n",
              "      <td>0.006983</td>\n",
              "      <td>0.013083</td>\n",
              "      <td>0.000417</td>\n",
              "      <td>0.000150</td>\n",
              "      <td>0.000000</td>\n",
              "      <td>0.031350</td>\n",
              "      <td>0.001017</td>\n",
              "      <td>0.004067</td>\n",
              "      <td>0.001517</td>\n",
              "      <td>0.003483</td>\n",
              "      <td>36.14</td>\n",
              "      <td>clear-night</td>\n",
              "      <td>0.62</td>\n",
              "      <td>10.0</td>\n",
              "      <td>Clear</td>\n",
              "      <td>29.26</td>\n",
              "      <td>1016.91</td>\n",
              "      <td>9.18</td>\n",
              "      <td>cloudCover</td>\n",
              "      <td>282.0</td>\n",
              "      <td>0.0</td>\n",
              "      <td>24.4</td>\n",
              "      <td>0.0</td>\n",
              "    </tr>\n",
              "    <tr>\n",
              "      <th>1</th>\n",
              "      <td>1451624401</td>\n",
              "      <td>0.934333</td>\n",
              "      <td>0.003467</td>\n",
              "      <td>0.934333</td>\n",
              "      <td>0.000000</td>\n",
              "      <td>0.020717</td>\n",
              "      <td>0.063817</td>\n",
              "      <td>0.444067</td>\n",
              "      <td>0.124000</td>\n",
              "      <td>0.006983</td>\n",
              "      <td>0.013117</td>\n",
              "      <td>0.000417</td>\n",
              "      <td>0.000150</td>\n",
              "      <td>0.000000</td>\n",
              "      <td>0.031500</td>\n",
              "      <td>0.001017</td>\n",
              "      <td>0.004067</td>\n",
              "      <td>0.001650</td>\n",
              "      <td>0.003467</td>\n",
              "      <td>36.14</td>\n",
              "      <td>clear-night</td>\n",
              "      <td>0.62</td>\n",
              "      <td>10.0</td>\n",
              "      <td>Clear</td>\n",
              "      <td>29.26</td>\n",
              "      <td>1016.91</td>\n",
              "      <td>9.18</td>\n",
              "      <td>cloudCover</td>\n",
              "      <td>282.0</td>\n",
              "      <td>0.0</td>\n",
              "      <td>24.4</td>\n",
              "      <td>0.0</td>\n",
              "    </tr>\n",
              "    <tr>\n",
              "      <th>2</th>\n",
              "      <td>1451624402</td>\n",
              "      <td>0.931817</td>\n",
              "      <td>0.003467</td>\n",
              "      <td>0.931817</td>\n",
              "      <td>0.000017</td>\n",
              "      <td>0.020700</td>\n",
              "      <td>0.062317</td>\n",
              "      <td>0.446067</td>\n",
              "      <td>0.123533</td>\n",
              "      <td>0.006983</td>\n",
              "      <td>0.013083</td>\n",
              "      <td>0.000433</td>\n",
              "      <td>0.000167</td>\n",
              "      <td>0.000017</td>\n",
              "      <td>0.031517</td>\n",
              "      <td>0.001000</td>\n",
              "      <td>0.004067</td>\n",
              "      <td>0.001650</td>\n",
              "      <td>0.003467</td>\n",
              "      <td>36.14</td>\n",
              "      <td>clear-night</td>\n",
              "      <td>0.62</td>\n",
              "      <td>10.0</td>\n",
              "      <td>Clear</td>\n",
              "      <td>29.26</td>\n",
              "      <td>1016.91</td>\n",
              "      <td>9.18</td>\n",
              "      <td>cloudCover</td>\n",
              "      <td>282.0</td>\n",
              "      <td>0.0</td>\n",
              "      <td>24.4</td>\n",
              "      <td>0.0</td>\n",
              "    </tr>\n",
              "    <tr>\n",
              "      <th>3</th>\n",
              "      <td>1451624403</td>\n",
              "      <td>1.022050</td>\n",
              "      <td>0.003483</td>\n",
              "      <td>1.022050</td>\n",
              "      <td>0.000017</td>\n",
              "      <td>0.106900</td>\n",
              "      <td>0.068517</td>\n",
              "      <td>0.446583</td>\n",
              "      <td>0.123133</td>\n",
              "      <td>0.006983</td>\n",
              "      <td>0.013000</td>\n",
              "      <td>0.000433</td>\n",
              "      <td>0.000217</td>\n",
              "      <td>0.000000</td>\n",
              "      <td>0.031500</td>\n",
              "      <td>0.001017</td>\n",
              "      <td>0.004067</td>\n",
              "      <td>0.001617</td>\n",
              "      <td>0.003483</td>\n",
              "      <td>36.14</td>\n",
              "      <td>clear-night</td>\n",
              "      <td>0.62</td>\n",
              "      <td>10.0</td>\n",
              "      <td>Clear</td>\n",
              "      <td>29.26</td>\n",
              "      <td>1016.91</td>\n",
              "      <td>9.18</td>\n",
              "      <td>cloudCover</td>\n",
              "      <td>282.0</td>\n",
              "      <td>0.0</td>\n",
              "      <td>24.4</td>\n",
              "      <td>0.0</td>\n",
              "    </tr>\n",
              "    <tr>\n",
              "      <th>4</th>\n",
              "      <td>1451624404</td>\n",
              "      <td>1.139400</td>\n",
              "      <td>0.003467</td>\n",
              "      <td>1.139400</td>\n",
              "      <td>0.000133</td>\n",
              "      <td>0.236933</td>\n",
              "      <td>0.063983</td>\n",
              "      <td>0.446533</td>\n",
              "      <td>0.122850</td>\n",
              "      <td>0.006850</td>\n",
              "      <td>0.012783</td>\n",
              "      <td>0.000450</td>\n",
              "      <td>0.000333</td>\n",
              "      <td>0.000000</td>\n",
              "      <td>0.031500</td>\n",
              "      <td>0.001017</td>\n",
              "      <td>0.004067</td>\n",
              "      <td>0.001583</td>\n",
              "      <td>0.003467</td>\n",
              "      <td>36.14</td>\n",
              "      <td>clear-night</td>\n",
              "      <td>0.62</td>\n",
              "      <td>10.0</td>\n",
              "      <td>Clear</td>\n",
              "      <td>29.26</td>\n",
              "      <td>1016.91</td>\n",
              "      <td>9.18</td>\n",
              "      <td>cloudCover</td>\n",
              "      <td>282.0</td>\n",
              "      <td>0.0</td>\n",
              "      <td>24.4</td>\n",
              "      <td>0.0</td>\n",
              "    </tr>\n",
              "  </tbody>\n",
              "</table>\n",
              "</div>"
            ],
            "text/plain": [
              "         time  use [kW]  gen [kW]  ...  precipIntensity  dewPoint  precipProbability\n",
              "0  1451624400  0.932833  0.003483  ...              0.0      24.4                0.0\n",
              "1  1451624401  0.934333  0.003467  ...              0.0      24.4                0.0\n",
              "2  1451624402  0.931817  0.003467  ...              0.0      24.4                0.0\n",
              "3  1451624403  1.022050  0.003483  ...              0.0      24.4                0.0\n",
              "4  1451624404  1.139400  0.003467  ...              0.0      24.4                0.0\n",
              "\n",
              "[5 rows x 32 columns]"
            ]
          },
          "metadata": {
            "tags": []
          },
          "execution_count": 7
        }
      ]
    },
    {
      "cell_type": "markdown",
      "metadata": {
        "id": "3J1U42wxW73B"
      },
      "source": [
        "> Let's have a look at name and data type of each feature (column)."
      ]
    },
    {
      "cell_type": "code",
      "metadata": {
        "trusted": true,
        "colab": {
          "base_uri": "https://localhost:8080/"
        },
        "id": "syMIW-C1W73B",
        "outputId": "8d8dc472-e10e-41af-80e0-57eb112186ed"
      },
      "source": [
        "tmp_str = \"Feature(attribute)     DataType\"; \n",
        "print(tmp_str+\"\\n\"+\"-\"*len(tmp_str))\n",
        "print(dataset.dtypes)"
      ],
      "execution_count": 8,
      "outputs": [
        {
          "output_type": "stream",
          "text": [
            "Feature(attribute)     DataType\n",
            "-------------------------------\n",
            "time                    object\n",
            "use [kW]               float64\n",
            "gen [kW]               float64\n",
            "House overall [kW]     float64\n",
            "Dishwasher [kW]        float64\n",
            "Furnace 1 [kW]         float64\n",
            "Furnace 2 [kW]         float64\n",
            "Home office [kW]       float64\n",
            "Fridge [kW]            float64\n",
            "Wine cellar [kW]       float64\n",
            "Garage door [kW]       float64\n",
            "Kitchen 12 [kW]        float64\n",
            "Kitchen 14 [kW]        float64\n",
            "Kitchen 38 [kW]        float64\n",
            "Barn [kW]              float64\n",
            "Well [kW]              float64\n",
            "Microwave [kW]         float64\n",
            "Living room [kW]       float64\n",
            "Solar [kW]             float64\n",
            "temperature            float64\n",
            "icon                    object\n",
            "humidity               float64\n",
            "visibility             float64\n",
            "summary                 object\n",
            "apparentTemperature    float64\n",
            "pressure               float64\n",
            "windSpeed              float64\n",
            "cloudCover              object\n",
            "windBearing            float64\n",
            "precipIntensity        float64\n",
            "dewPoint               float64\n",
            "precipProbability      float64\n",
            "dtype: object\n"
          ],
          "name": "stdout"
        }
      ]
    },
    {
      "cell_type": "markdown",
      "metadata": {
        "id": "0luBdcsn8KHG"
      },
      "source": [
        "### The weather and energy dataset\r\n",
        "The dataset contains the readings with a time span of 1 minute of house appliances in kW from a smart meter and weather conditions of that particular region.\r\n",
        "\r\n",
        "#### Data Columns Descriptions:\r\n",
        "(source: Data Source: https://www.kaggle.com/taranvee/smart-home-dataset-with-weather-information)\r\n",
        "##### Index \r\n",
        "- **time**\r\n",
        "    * Time of the readings, with a time span of 1 minute.\r\n",
        "\r\n",
        "##### Energy Usage \r\n",
        "- **use [kW]**\r\n",
        "    * Total energy consumption\r\n",
        "- **gen [kW]**\r\n",
        "    * Total energy generated by means of solar or other power generation resources\r\n",
        "- **House overall [kW]**\r\n",
        "    * overall house energy consumption\r\n",
        "- **Dishwasher [kW]** \r\n",
        "    * energy consumed by specific appliance\r\n",
        "- **Furnace 1 [kW]**\r\n",
        "    * energy consumed by specific appliance\r\n",
        "- **Furnace 2 [kW]**\r\n",
        "    * energy consumed by specific appliance\r\n",
        "- **Home office [kW]**\r\n",
        "    * energy consumed by specific appliance\r\n",
        "- **Fridge [kW]**\r\n",
        "    * energy consumed by specific appliance\r\n",
        "- **Wine cellar [kW]**\r\n",
        "    * energy consumed by specific appliance\r\n",
        "- **Garage door [kW]**\r\n",
        "    * energy consumed by specific appliance\r\n",
        "- **Kitchen 12 [kW]**\r\n",
        "    * energy consumption in kitchen 1\r\n",
        "- **Kitchen 14 [kW]**\r\n",
        "    * energy consumption in kitchen 2\r\n",
        "- **Kitchen 38 [kW]**\r\n",
        "    * energy consumption in kitchen 3\r\n",
        "- **Barn [kW]**\r\n",
        "    * energy consumed by specific appliance\r\n",
        "- **Well [kW]**\r\n",
        "    * energy consumed by specific appliance\r\n",
        "- **Microwave [kW]**\r\n",
        "    * energy consumed by specific appliance\r\n",
        "- **Living room [kW]**\r\n",
        "    * energy consumption in Living room\r\n",
        "- **Solar [kW]**\r\n",
        "    * Solar power generation\r\n",
        "\r\n",
        "##### Weather\r\n",
        "- **temperature**:\r\n",
        "    * Temperature is a physical quantity expressing hot and cold.\r\n",
        "- **humidity**:\r\n",
        "    * Humidity is the concentration of water vapour present in air.\r\n",
        "- **visibility**:\r\n",
        "    * Visibility sensors measure the meteorological optical range which is defined as the length of atmosphere over which a beam of light travels before its luminous flux is reduced to 5% of its original value.\r\n",
        "\r\n",
        "- **apparentTemperature**:\r\n",
        "    * Apparent temperature is the temperature equivalent perceived by humans, caused by the combined effects of air temperature, relative humidity and wind speed. The measure is most commonly applied to the perceived outdoor temperature.\r\n",
        "- **pressure**: \r\n",
        "    * Falling air pressure indicates that bad weather is coming, while rising air pressure indicates good weather\r\n",
        "- **windSpeed**:\r\n",
        "    * Wind speed, or wind flow speed, is a fundamental atmospheric quantity caused by air moving from high to low pressure, usually due to changes in temperature.\r\n",
        "- **cloudCover**:\r\n",
        "    * Cloud cover (also known as cloudiness, cloudage, or cloud amount) refers to the fraction of the sky obscured by clouds when observed from a particular location. Okta is the usual unit of measurement of the cloud cover.\r\n",
        "- **windBearing**:\r\n",
        "    * In meteorology, an azimuth of 000° is used only when no wind is blowing, while 360° means the wind is from the North. True Wind Direction True North is represented on a globe as the North Pole. All directions relative to True North may be called \"true bearings.\"\r\n",
        "- **dewPoint**:\r\n",
        "    * the atmospheric temperature (varying according to pressure and humidity) below which water droplets begin to condense and dew can form.\r\n",
        "- **precipProbability**:\r\n",
        "    * A probability of precipitation (POP), also referred to as chance of precipitation or chance of rain, is a measure of the probability that at least some minimum quantity of precipitation will occur within a specified forecast period and location.\r\n",
        "- **precipIntensity**:\r\n",
        "    * The intensity of rainfall is a measure of the amount of rain that falls over time. The intensity of rain is measured in the height of the water layer covering the ground in a period of time. It means that if the rain stays where it falls, it would form a layer of a certain height.\r\n",
        " \r\n",
        "##### Others\r\n",
        "- **summary**:\r\n",
        "    * Report generated by the by the data collection systm (apparently!).\r\n",
        "    * Including:\r\n",
        "    ```\r\n",
        "    Clear, Mostly Cloudy, Overcast, Partly Cloudy, Drizzle,\r\n",
        "       Light Rain, Rain, Light Snow, Flurries, Breezy, Snow,\r\n",
        "       Rain and Breezy, Foggy, Breezy and Mostly Cloudy,\r\n",
        "       Breezy and Partly Cloudy, Flurries and Breezy, Dry,\r\n",
        "       Heavy, Snow.\r\n",
        "    ```\r\n",
        "- **icon**:\r\n",
        "    * The icon that is used by the data collection systm (apparently!).\r\n",
        "    * Including:\r\n",
        "    ```\r\n",
        "    cloudy, clear-night, partly-cloudy-night, clear-day, partly-cloudy-day, rain, snow, wind, fog.\r\n",
        "    ```\r\n",
        "    "
      ]
    },
    {
      "cell_type": "code",
      "metadata": {
        "trusted": true,
        "colab": {
          "base_uri": "https://localhost:8080/"
        },
        "id": "Wh-LBV7xW73C",
        "outputId": "72f6c7da-9ae7-4f2a-a8ee-2e27dbbf37cd"
      },
      "source": [
        "## Return a tuple representing the dimensionality of the DataFrame.\n",
        "print(\"Shape of the data: {} --> n_rows = {}, n_cols = {}\".format(dataset.shape, dataset.shape[0],dataset.shape[1]))"
      ],
      "execution_count": 9,
      "outputs": [
        {
          "output_type": "stream",
          "text": [
            "Shape of the data: (503911, 32) --> n_rows = 503911, n_cols = 32\n"
          ],
          "name": "stdout"
        }
      ]
    },
    {
      "cell_type": "code",
      "metadata": {
        "trusted": true,
        "colab": {
          "base_uri": "https://localhost:8080/",
          "height": 583
        },
        "id": "JNPx9Ad-W73C",
        "outputId": "ae0fc136-a84a-4f62-a5a3-1c1658acb6a5"
      },
      "source": [
        "## pandas.DataFrame.head: This function returns the first n rows for the object based on position. \n",
        "#It is useful for quickly testing if your object has the right type of data in it.\n",
        "dataset.head(10)"
      ],
      "execution_count": 10,
      "outputs": [
        {
          "output_type": "execute_result",
          "data": {
            "text/html": [
              "<div>\n",
              "<style scoped>\n",
              "    .dataframe tbody tr th:only-of-type {\n",
              "        vertical-align: middle;\n",
              "    }\n",
              "\n",
              "    .dataframe tbody tr th {\n",
              "        vertical-align: top;\n",
              "    }\n",
              "\n",
              "    .dataframe thead th {\n",
              "        text-align: right;\n",
              "    }\n",
              "</style>\n",
              "<table border=\"1\" class=\"dataframe\">\n",
              "  <thead>\n",
              "    <tr style=\"text-align: right;\">\n",
              "      <th></th>\n",
              "      <th>time</th>\n",
              "      <th>use [kW]</th>\n",
              "      <th>gen [kW]</th>\n",
              "      <th>House overall [kW]</th>\n",
              "      <th>Dishwasher [kW]</th>\n",
              "      <th>Furnace 1 [kW]</th>\n",
              "      <th>Furnace 2 [kW]</th>\n",
              "      <th>Home office [kW]</th>\n",
              "      <th>Fridge [kW]</th>\n",
              "      <th>Wine cellar [kW]</th>\n",
              "      <th>Garage door [kW]</th>\n",
              "      <th>Kitchen 12 [kW]</th>\n",
              "      <th>Kitchen 14 [kW]</th>\n",
              "      <th>Kitchen 38 [kW]</th>\n",
              "      <th>Barn [kW]</th>\n",
              "      <th>Well [kW]</th>\n",
              "      <th>Microwave [kW]</th>\n",
              "      <th>Living room [kW]</th>\n",
              "      <th>Solar [kW]</th>\n",
              "      <th>temperature</th>\n",
              "      <th>icon</th>\n",
              "      <th>humidity</th>\n",
              "      <th>visibility</th>\n",
              "      <th>summary</th>\n",
              "      <th>apparentTemperature</th>\n",
              "      <th>pressure</th>\n",
              "      <th>windSpeed</th>\n",
              "      <th>cloudCover</th>\n",
              "      <th>windBearing</th>\n",
              "      <th>precipIntensity</th>\n",
              "      <th>dewPoint</th>\n",
              "      <th>precipProbability</th>\n",
              "    </tr>\n",
              "  </thead>\n",
              "  <tbody>\n",
              "    <tr>\n",
              "      <th>0</th>\n",
              "      <td>1451624400</td>\n",
              "      <td>0.932833</td>\n",
              "      <td>0.003483</td>\n",
              "      <td>0.932833</td>\n",
              "      <td>0.000033</td>\n",
              "      <td>0.020700</td>\n",
              "      <td>0.061917</td>\n",
              "      <td>0.442633</td>\n",
              "      <td>0.124150</td>\n",
              "      <td>0.006983</td>\n",
              "      <td>0.013083</td>\n",
              "      <td>0.000417</td>\n",
              "      <td>0.000150</td>\n",
              "      <td>0.000000</td>\n",
              "      <td>0.031350</td>\n",
              "      <td>0.001017</td>\n",
              "      <td>0.004067</td>\n",
              "      <td>0.001517</td>\n",
              "      <td>0.003483</td>\n",
              "      <td>36.14</td>\n",
              "      <td>clear-night</td>\n",
              "      <td>0.62</td>\n",
              "      <td>10.0</td>\n",
              "      <td>Clear</td>\n",
              "      <td>29.26</td>\n",
              "      <td>1016.91</td>\n",
              "      <td>9.18</td>\n",
              "      <td>cloudCover</td>\n",
              "      <td>282.0</td>\n",
              "      <td>0.0</td>\n",
              "      <td>24.4</td>\n",
              "      <td>0.0</td>\n",
              "    </tr>\n",
              "    <tr>\n",
              "      <th>1</th>\n",
              "      <td>1451624401</td>\n",
              "      <td>0.934333</td>\n",
              "      <td>0.003467</td>\n",
              "      <td>0.934333</td>\n",
              "      <td>0.000000</td>\n",
              "      <td>0.020717</td>\n",
              "      <td>0.063817</td>\n",
              "      <td>0.444067</td>\n",
              "      <td>0.124000</td>\n",
              "      <td>0.006983</td>\n",
              "      <td>0.013117</td>\n",
              "      <td>0.000417</td>\n",
              "      <td>0.000150</td>\n",
              "      <td>0.000000</td>\n",
              "      <td>0.031500</td>\n",
              "      <td>0.001017</td>\n",
              "      <td>0.004067</td>\n",
              "      <td>0.001650</td>\n",
              "      <td>0.003467</td>\n",
              "      <td>36.14</td>\n",
              "      <td>clear-night</td>\n",
              "      <td>0.62</td>\n",
              "      <td>10.0</td>\n",
              "      <td>Clear</td>\n",
              "      <td>29.26</td>\n",
              "      <td>1016.91</td>\n",
              "      <td>9.18</td>\n",
              "      <td>cloudCover</td>\n",
              "      <td>282.0</td>\n",
              "      <td>0.0</td>\n",
              "      <td>24.4</td>\n",
              "      <td>0.0</td>\n",
              "    </tr>\n",
              "    <tr>\n",
              "      <th>2</th>\n",
              "      <td>1451624402</td>\n",
              "      <td>0.931817</td>\n",
              "      <td>0.003467</td>\n",
              "      <td>0.931817</td>\n",
              "      <td>0.000017</td>\n",
              "      <td>0.020700</td>\n",
              "      <td>0.062317</td>\n",
              "      <td>0.446067</td>\n",
              "      <td>0.123533</td>\n",
              "      <td>0.006983</td>\n",
              "      <td>0.013083</td>\n",
              "      <td>0.000433</td>\n",
              "      <td>0.000167</td>\n",
              "      <td>0.000017</td>\n",
              "      <td>0.031517</td>\n",
              "      <td>0.001000</td>\n",
              "      <td>0.004067</td>\n",
              "      <td>0.001650</td>\n",
              "      <td>0.003467</td>\n",
              "      <td>36.14</td>\n",
              "      <td>clear-night</td>\n",
              "      <td>0.62</td>\n",
              "      <td>10.0</td>\n",
              "      <td>Clear</td>\n",
              "      <td>29.26</td>\n",
              "      <td>1016.91</td>\n",
              "      <td>9.18</td>\n",
              "      <td>cloudCover</td>\n",
              "      <td>282.0</td>\n",
              "      <td>0.0</td>\n",
              "      <td>24.4</td>\n",
              "      <td>0.0</td>\n",
              "    </tr>\n",
              "    <tr>\n",
              "      <th>3</th>\n",
              "      <td>1451624403</td>\n",
              "      <td>1.022050</td>\n",
              "      <td>0.003483</td>\n",
              "      <td>1.022050</td>\n",
              "      <td>0.000017</td>\n",
              "      <td>0.106900</td>\n",
              "      <td>0.068517</td>\n",
              "      <td>0.446583</td>\n",
              "      <td>0.123133</td>\n",
              "      <td>0.006983</td>\n",
              "      <td>0.013000</td>\n",
              "      <td>0.000433</td>\n",
              "      <td>0.000217</td>\n",
              "      <td>0.000000</td>\n",
              "      <td>0.031500</td>\n",
              "      <td>0.001017</td>\n",
              "      <td>0.004067</td>\n",
              "      <td>0.001617</td>\n",
              "      <td>0.003483</td>\n",
              "      <td>36.14</td>\n",
              "      <td>clear-night</td>\n",
              "      <td>0.62</td>\n",
              "      <td>10.0</td>\n",
              "      <td>Clear</td>\n",
              "      <td>29.26</td>\n",
              "      <td>1016.91</td>\n",
              "      <td>9.18</td>\n",
              "      <td>cloudCover</td>\n",
              "      <td>282.0</td>\n",
              "      <td>0.0</td>\n",
              "      <td>24.4</td>\n",
              "      <td>0.0</td>\n",
              "    </tr>\n",
              "    <tr>\n",
              "      <th>4</th>\n",
              "      <td>1451624404</td>\n",
              "      <td>1.139400</td>\n",
              "      <td>0.003467</td>\n",
              "      <td>1.139400</td>\n",
              "      <td>0.000133</td>\n",
              "      <td>0.236933</td>\n",
              "      <td>0.063983</td>\n",
              "      <td>0.446533</td>\n",
              "      <td>0.122850</td>\n",
              "      <td>0.006850</td>\n",
              "      <td>0.012783</td>\n",
              "      <td>0.000450</td>\n",
              "      <td>0.000333</td>\n",
              "      <td>0.000000</td>\n",
              "      <td>0.031500</td>\n",
              "      <td>0.001017</td>\n",
              "      <td>0.004067</td>\n",
              "      <td>0.001583</td>\n",
              "      <td>0.003467</td>\n",
              "      <td>36.14</td>\n",
              "      <td>clear-night</td>\n",
              "      <td>0.62</td>\n",
              "      <td>10.0</td>\n",
              "      <td>Clear</td>\n",
              "      <td>29.26</td>\n",
              "      <td>1016.91</td>\n",
              "      <td>9.18</td>\n",
              "      <td>cloudCover</td>\n",
              "      <td>282.0</td>\n",
              "      <td>0.0</td>\n",
              "      <td>24.4</td>\n",
              "      <td>0.0</td>\n",
              "    </tr>\n",
              "    <tr>\n",
              "      <th>5</th>\n",
              "      <td>1451624405</td>\n",
              "      <td>1.391867</td>\n",
              "      <td>0.003433</td>\n",
              "      <td>1.391867</td>\n",
              "      <td>0.000283</td>\n",
              "      <td>0.503250</td>\n",
              "      <td>0.063667</td>\n",
              "      <td>0.447033</td>\n",
              "      <td>0.122300</td>\n",
              "      <td>0.006717</td>\n",
              "      <td>0.012433</td>\n",
              "      <td>0.000483</td>\n",
              "      <td>0.000567</td>\n",
              "      <td>0.000000</td>\n",
              "      <td>0.031450</td>\n",
              "      <td>0.001017</td>\n",
              "      <td>0.004067</td>\n",
              "      <td>0.001583</td>\n",
              "      <td>0.003433</td>\n",
              "      <td>36.14</td>\n",
              "      <td>clear-night</td>\n",
              "      <td>0.62</td>\n",
              "      <td>10.0</td>\n",
              "      <td>Clear</td>\n",
              "      <td>29.26</td>\n",
              "      <td>1016.91</td>\n",
              "      <td>9.18</td>\n",
              "      <td>cloudCover</td>\n",
              "      <td>282.0</td>\n",
              "      <td>0.0</td>\n",
              "      <td>24.4</td>\n",
              "      <td>0.0</td>\n",
              "    </tr>\n",
              "    <tr>\n",
              "      <th>6</th>\n",
              "      <td>1451624406</td>\n",
              "      <td>1.366217</td>\n",
              "      <td>0.003450</td>\n",
              "      <td>1.366217</td>\n",
              "      <td>0.000283</td>\n",
              "      <td>0.499400</td>\n",
              "      <td>0.063717</td>\n",
              "      <td>0.443267</td>\n",
              "      <td>0.122050</td>\n",
              "      <td>0.006733</td>\n",
              "      <td>0.012417</td>\n",
              "      <td>0.000517</td>\n",
              "      <td>0.000550</td>\n",
              "      <td>0.000000</td>\n",
              "      <td>0.031550</td>\n",
              "      <td>0.001033</td>\n",
              "      <td>0.004117</td>\n",
              "      <td>0.001533</td>\n",
              "      <td>0.003450</td>\n",
              "      <td>36.14</td>\n",
              "      <td>clear-night</td>\n",
              "      <td>0.62</td>\n",
              "      <td>10.0</td>\n",
              "      <td>Clear</td>\n",
              "      <td>29.26</td>\n",
              "      <td>1016.91</td>\n",
              "      <td>9.18</td>\n",
              "      <td>cloudCover</td>\n",
              "      <td>282.0</td>\n",
              "      <td>0.0</td>\n",
              "      <td>24.4</td>\n",
              "      <td>0.0</td>\n",
              "    </tr>\n",
              "    <tr>\n",
              "      <th>7</th>\n",
              "      <td>1451624407</td>\n",
              "      <td>1.431900</td>\n",
              "      <td>0.003417</td>\n",
              "      <td>1.431900</td>\n",
              "      <td>0.000250</td>\n",
              "      <td>0.477867</td>\n",
              "      <td>0.178633</td>\n",
              "      <td>0.444283</td>\n",
              "      <td>0.121800</td>\n",
              "      <td>0.006783</td>\n",
              "      <td>0.012550</td>\n",
              "      <td>0.000483</td>\n",
              "      <td>0.000450</td>\n",
              "      <td>0.000000</td>\n",
              "      <td>0.031733</td>\n",
              "      <td>0.001033</td>\n",
              "      <td>0.004200</td>\n",
              "      <td>0.001550</td>\n",
              "      <td>0.003417</td>\n",
              "      <td>36.14</td>\n",
              "      <td>clear-night</td>\n",
              "      <td>0.62</td>\n",
              "      <td>10.0</td>\n",
              "      <td>Clear</td>\n",
              "      <td>29.26</td>\n",
              "      <td>1016.91</td>\n",
              "      <td>9.18</td>\n",
              "      <td>cloudCover</td>\n",
              "      <td>282.0</td>\n",
              "      <td>0.0</td>\n",
              "      <td>24.4</td>\n",
              "      <td>0.0</td>\n",
              "    </tr>\n",
              "    <tr>\n",
              "      <th>8</th>\n",
              "      <td>1451624408</td>\n",
              "      <td>1.627300</td>\n",
              "      <td>0.003417</td>\n",
              "      <td>1.627300</td>\n",
              "      <td>0.000183</td>\n",
              "      <td>0.447650</td>\n",
              "      <td>0.365700</td>\n",
              "      <td>0.441467</td>\n",
              "      <td>0.121617</td>\n",
              "      <td>0.006950</td>\n",
              "      <td>0.012717</td>\n",
              "      <td>0.000467</td>\n",
              "      <td>0.000300</td>\n",
              "      <td>0.000017</td>\n",
              "      <td>0.031767</td>\n",
              "      <td>0.001017</td>\n",
              "      <td>0.004200</td>\n",
              "      <td>0.001567</td>\n",
              "      <td>0.003417</td>\n",
              "      <td>36.14</td>\n",
              "      <td>clear-night</td>\n",
              "      <td>0.62</td>\n",
              "      <td>10.0</td>\n",
              "      <td>Clear</td>\n",
              "      <td>29.26</td>\n",
              "      <td>1016.91</td>\n",
              "      <td>9.18</td>\n",
              "      <td>cloudCover</td>\n",
              "      <td>282.0</td>\n",
              "      <td>0.0</td>\n",
              "      <td>24.4</td>\n",
              "      <td>0.0</td>\n",
              "    </tr>\n",
              "    <tr>\n",
              "      <th>9</th>\n",
              "      <td>1451624409</td>\n",
              "      <td>1.735383</td>\n",
              "      <td>0.003417</td>\n",
              "      <td>1.735383</td>\n",
              "      <td>0.000017</td>\n",
              "      <td>0.171550</td>\n",
              "      <td>0.682500</td>\n",
              "      <td>0.438733</td>\n",
              "      <td>0.121633</td>\n",
              "      <td>0.007233</td>\n",
              "      <td>0.013350</td>\n",
              "      <td>0.000367</td>\n",
              "      <td>0.000050</td>\n",
              "      <td>0.000000</td>\n",
              "      <td>0.031667</td>\n",
              "      <td>0.001017</td>\n",
              "      <td>0.004200</td>\n",
              "      <td>0.001617</td>\n",
              "      <td>0.003417</td>\n",
              "      <td>36.14</td>\n",
              "      <td>clear-night</td>\n",
              "      <td>0.62</td>\n",
              "      <td>10.0</td>\n",
              "      <td>Clear</td>\n",
              "      <td>29.26</td>\n",
              "      <td>1016.91</td>\n",
              "      <td>9.18</td>\n",
              "      <td>cloudCover</td>\n",
              "      <td>282.0</td>\n",
              "      <td>0.0</td>\n",
              "      <td>24.4</td>\n",
              "      <td>0.0</td>\n",
              "    </tr>\n",
              "  </tbody>\n",
              "</table>\n",
              "</div>"
            ],
            "text/plain": [
              "         time  use [kW]  gen [kW]  ...  precipIntensity  dewPoint  precipProbability\n",
              "0  1451624400  0.932833  0.003483  ...              0.0      24.4                0.0\n",
              "1  1451624401  0.934333  0.003467  ...              0.0      24.4                0.0\n",
              "2  1451624402  0.931817  0.003467  ...              0.0      24.4                0.0\n",
              "3  1451624403  1.022050  0.003483  ...              0.0      24.4                0.0\n",
              "4  1451624404  1.139400  0.003467  ...              0.0      24.4                0.0\n",
              "5  1451624405  1.391867  0.003433  ...              0.0      24.4                0.0\n",
              "6  1451624406  1.366217  0.003450  ...              0.0      24.4                0.0\n",
              "7  1451624407  1.431900  0.003417  ...              0.0      24.4                0.0\n",
              "8  1451624408  1.627300  0.003417  ...              0.0      24.4                0.0\n",
              "9  1451624409  1.735383  0.003417  ...              0.0      24.4                0.0\n",
              "\n",
              "[10 rows x 32 columns]"
            ]
          },
          "metadata": {
            "tags": []
          },
          "execution_count": 10
        }
      ]
    },
    {
      "cell_type": "code",
      "metadata": {
        "trusted": true,
        "colab": {
          "base_uri": "https://localhost:8080/",
          "height": 566
        },
        "id": "kI-R8tP1W73D",
        "outputId": "c1f01288-c3a8-4215-b7a1-1ef10b3323bc"
      },
      "source": [
        "## This function returns last n rows from the object based on position. \n",
        "#It is useful for quickly verifying data, for example, after sorting or appending rows.\n",
        "dataset.tail(10)"
      ],
      "execution_count": 11,
      "outputs": [
        {
          "output_type": "execute_result",
          "data": {
            "text/html": [
              "<div>\n",
              "<style scoped>\n",
              "    .dataframe tbody tr th:only-of-type {\n",
              "        vertical-align: middle;\n",
              "    }\n",
              "\n",
              "    .dataframe tbody tr th {\n",
              "        vertical-align: top;\n",
              "    }\n",
              "\n",
              "    .dataframe thead th {\n",
              "        text-align: right;\n",
              "    }\n",
              "</style>\n",
              "<table border=\"1\" class=\"dataframe\">\n",
              "  <thead>\n",
              "    <tr style=\"text-align: right;\">\n",
              "      <th></th>\n",
              "      <th>time</th>\n",
              "      <th>use [kW]</th>\n",
              "      <th>gen [kW]</th>\n",
              "      <th>House overall [kW]</th>\n",
              "      <th>Dishwasher [kW]</th>\n",
              "      <th>Furnace 1 [kW]</th>\n",
              "      <th>Furnace 2 [kW]</th>\n",
              "      <th>Home office [kW]</th>\n",
              "      <th>Fridge [kW]</th>\n",
              "      <th>Wine cellar [kW]</th>\n",
              "      <th>Garage door [kW]</th>\n",
              "      <th>Kitchen 12 [kW]</th>\n",
              "      <th>Kitchen 14 [kW]</th>\n",
              "      <th>Kitchen 38 [kW]</th>\n",
              "      <th>Barn [kW]</th>\n",
              "      <th>Well [kW]</th>\n",
              "      <th>Microwave [kW]</th>\n",
              "      <th>Living room [kW]</th>\n",
              "      <th>Solar [kW]</th>\n",
              "      <th>temperature</th>\n",
              "      <th>icon</th>\n",
              "      <th>humidity</th>\n",
              "      <th>visibility</th>\n",
              "      <th>summary</th>\n",
              "      <th>apparentTemperature</th>\n",
              "      <th>pressure</th>\n",
              "      <th>windSpeed</th>\n",
              "      <th>cloudCover</th>\n",
              "      <th>windBearing</th>\n",
              "      <th>precipIntensity</th>\n",
              "      <th>dewPoint</th>\n",
              "      <th>precipProbability</th>\n",
              "    </tr>\n",
              "  </thead>\n",
              "  <tbody>\n",
              "    <tr>\n",
              "      <th>503901</th>\n",
              "      <td>1452128301</td>\n",
              "      <td>1.537383</td>\n",
              "      <td>0.003183</td>\n",
              "      <td>1.537383</td>\n",
              "      <td>0.000133</td>\n",
              "      <td>0.021683</td>\n",
              "      <td>0.642733</td>\n",
              "      <td>0.042033</td>\n",
              "      <td>0.005283</td>\n",
              "      <td>0.008333</td>\n",
              "      <td>0.013517</td>\n",
              "      <td>0.000500</td>\n",
              "      <td>0.000183</td>\n",
              "      <td>0.000017</td>\n",
              "      <td>0.032017</td>\n",
              "      <td>0.000983</td>\n",
              "      <td>0.003750</td>\n",
              "      <td>0.000967</td>\n",
              "      <td>0.003183</td>\n",
              "      <td>35.12</td>\n",
              "      <td>rain</td>\n",
              "      <td>0.86</td>\n",
              "      <td>8.74</td>\n",
              "      <td>Light Rain</td>\n",
              "      <td>29.45</td>\n",
              "      <td>1011.49</td>\n",
              "      <td>6.72</td>\n",
              "      <td>0.31</td>\n",
              "      <td>186.0</td>\n",
              "      <td>0.0101</td>\n",
              "      <td>31.27</td>\n",
              "      <td>0.51</td>\n",
              "    </tr>\n",
              "    <tr>\n",
              "      <th>503902</th>\n",
              "      <td>1452128302</td>\n",
              "      <td>1.551817</td>\n",
              "      <td>0.003200</td>\n",
              "      <td>1.551817</td>\n",
              "      <td>0.000050</td>\n",
              "      <td>0.056200</td>\n",
              "      <td>0.624783</td>\n",
              "      <td>0.041750</td>\n",
              "      <td>0.005250</td>\n",
              "      <td>0.008450</td>\n",
              "      <td>0.013483</td>\n",
              "      <td>0.000450</td>\n",
              "      <td>0.000133</td>\n",
              "      <td>0.000033</td>\n",
              "      <td>0.032117</td>\n",
              "      <td>0.001000</td>\n",
              "      <td>0.003800</td>\n",
              "      <td>0.001000</td>\n",
              "      <td>0.003200</td>\n",
              "      <td>35.12</td>\n",
              "      <td>rain</td>\n",
              "      <td>0.86</td>\n",
              "      <td>8.74</td>\n",
              "      <td>Light Rain</td>\n",
              "      <td>29.45</td>\n",
              "      <td>1011.49</td>\n",
              "      <td>6.72</td>\n",
              "      <td>0.31</td>\n",
              "      <td>186.0</td>\n",
              "      <td>0.0101</td>\n",
              "      <td>31.27</td>\n",
              "      <td>0.51</td>\n",
              "    </tr>\n",
              "    <tr>\n",
              "      <th>503903</th>\n",
              "      <td>1452128303</td>\n",
              "      <td>1.599617</td>\n",
              "      <td>0.003217</td>\n",
              "      <td>1.599617</td>\n",
              "      <td>0.000067</td>\n",
              "      <td>0.089217</td>\n",
              "      <td>0.638650</td>\n",
              "      <td>0.041750</td>\n",
              "      <td>0.005617</td>\n",
              "      <td>0.008467</td>\n",
              "      <td>0.013450</td>\n",
              "      <td>0.000483</td>\n",
              "      <td>0.000117</td>\n",
              "      <td>0.000017</td>\n",
              "      <td>0.032167</td>\n",
              "      <td>0.000983</td>\n",
              "      <td>0.003783</td>\n",
              "      <td>0.001000</td>\n",
              "      <td>0.003217</td>\n",
              "      <td>35.12</td>\n",
              "      <td>rain</td>\n",
              "      <td>0.86</td>\n",
              "      <td>8.74</td>\n",
              "      <td>Light Rain</td>\n",
              "      <td>29.45</td>\n",
              "      <td>1011.49</td>\n",
              "      <td>6.72</td>\n",
              "      <td>0.31</td>\n",
              "      <td>186.0</td>\n",
              "      <td>0.0101</td>\n",
              "      <td>31.27</td>\n",
              "      <td>0.51</td>\n",
              "    </tr>\n",
              "    <tr>\n",
              "      <th>503904</th>\n",
              "      <td>1452128304</td>\n",
              "      <td>1.608867</td>\n",
              "      <td>0.003217</td>\n",
              "      <td>1.608867</td>\n",
              "      <td>0.000033</td>\n",
              "      <td>0.114300</td>\n",
              "      <td>0.623283</td>\n",
              "      <td>0.041817</td>\n",
              "      <td>0.005217</td>\n",
              "      <td>0.008350</td>\n",
              "      <td>0.013433</td>\n",
              "      <td>0.000467</td>\n",
              "      <td>0.000117</td>\n",
              "      <td>0.000033</td>\n",
              "      <td>0.032283</td>\n",
              "      <td>0.001017</td>\n",
              "      <td>0.003800</td>\n",
              "      <td>0.001017</td>\n",
              "      <td>0.003217</td>\n",
              "      <td>35.12</td>\n",
              "      <td>rain</td>\n",
              "      <td>0.86</td>\n",
              "      <td>8.74</td>\n",
              "      <td>Light Rain</td>\n",
              "      <td>29.45</td>\n",
              "      <td>1011.49</td>\n",
              "      <td>6.72</td>\n",
              "      <td>0.31</td>\n",
              "      <td>186.0</td>\n",
              "      <td>0.0101</td>\n",
              "      <td>31.27</td>\n",
              "      <td>0.51</td>\n",
              "    </tr>\n",
              "    <tr>\n",
              "      <th>503905</th>\n",
              "      <td>1452128305</td>\n",
              "      <td>1.601233</td>\n",
              "      <td>0.003183</td>\n",
              "      <td>1.601233</td>\n",
              "      <td>0.000050</td>\n",
              "      <td>0.085267</td>\n",
              "      <td>0.642417</td>\n",
              "      <td>0.041783</td>\n",
              "      <td>0.005267</td>\n",
              "      <td>0.008667</td>\n",
              "      <td>0.013483</td>\n",
              "      <td>0.000467</td>\n",
              "      <td>0.000150</td>\n",
              "      <td>0.000017</td>\n",
              "      <td>0.032283</td>\n",
              "      <td>0.000983</td>\n",
              "      <td>0.003800</td>\n",
              "      <td>0.000967</td>\n",
              "      <td>0.003183</td>\n",
              "      <td>35.12</td>\n",
              "      <td>rain</td>\n",
              "      <td>0.86</td>\n",
              "      <td>8.74</td>\n",
              "      <td>Light Rain</td>\n",
              "      <td>29.45</td>\n",
              "      <td>1011.49</td>\n",
              "      <td>6.72</td>\n",
              "      <td>0.31</td>\n",
              "      <td>186.0</td>\n",
              "      <td>0.0101</td>\n",
              "      <td>31.27</td>\n",
              "      <td>0.51</td>\n",
              "    </tr>\n",
              "    <tr>\n",
              "      <th>503906</th>\n",
              "      <td>1452128306</td>\n",
              "      <td>1.599333</td>\n",
              "      <td>0.003233</td>\n",
              "      <td>1.599333</td>\n",
              "      <td>0.000050</td>\n",
              "      <td>0.104017</td>\n",
              "      <td>0.625033</td>\n",
              "      <td>0.041750</td>\n",
              "      <td>0.005233</td>\n",
              "      <td>0.008433</td>\n",
              "      <td>0.013433</td>\n",
              "      <td>0.000467</td>\n",
              "      <td>0.000100</td>\n",
              "      <td>0.000033</td>\n",
              "      <td>0.032200</td>\n",
              "      <td>0.000950</td>\n",
              "      <td>0.003800</td>\n",
              "      <td>0.000933</td>\n",
              "      <td>0.003233</td>\n",
              "      <td>35.12</td>\n",
              "      <td>rain</td>\n",
              "      <td>0.86</td>\n",
              "      <td>8.74</td>\n",
              "      <td>Light Rain</td>\n",
              "      <td>29.45</td>\n",
              "      <td>1011.49</td>\n",
              "      <td>6.72</td>\n",
              "      <td>0.31</td>\n",
              "      <td>186.0</td>\n",
              "      <td>0.0101</td>\n",
              "      <td>31.27</td>\n",
              "      <td>0.51</td>\n",
              "    </tr>\n",
              "    <tr>\n",
              "      <th>503907</th>\n",
              "      <td>1452128307</td>\n",
              "      <td>1.924267</td>\n",
              "      <td>0.003217</td>\n",
              "      <td>1.924267</td>\n",
              "      <td>0.000033</td>\n",
              "      <td>0.422383</td>\n",
              "      <td>0.637733</td>\n",
              "      <td>0.042033</td>\n",
              "      <td>0.004983</td>\n",
              "      <td>0.008467</td>\n",
              "      <td>0.012933</td>\n",
              "      <td>0.000533</td>\n",
              "      <td>0.000067</td>\n",
              "      <td>0.000000</td>\n",
              "      <td>0.032283</td>\n",
              "      <td>0.001000</td>\n",
              "      <td>0.003750</td>\n",
              "      <td>0.001000</td>\n",
              "      <td>0.003217</td>\n",
              "      <td>35.12</td>\n",
              "      <td>rain</td>\n",
              "      <td>0.86</td>\n",
              "      <td>8.74</td>\n",
              "      <td>Light Rain</td>\n",
              "      <td>29.45</td>\n",
              "      <td>1011.49</td>\n",
              "      <td>6.72</td>\n",
              "      <td>0.31</td>\n",
              "      <td>186.0</td>\n",
              "      <td>0.0101</td>\n",
              "      <td>31.27</td>\n",
              "      <td>0.51</td>\n",
              "    </tr>\n",
              "    <tr>\n",
              "      <th>503908</th>\n",
              "      <td>1452128308</td>\n",
              "      <td>1.978200</td>\n",
              "      <td>0.003217</td>\n",
              "      <td>1.978200</td>\n",
              "      <td>0.000050</td>\n",
              "      <td>0.495667</td>\n",
              "      <td>0.620367</td>\n",
              "      <td>0.042100</td>\n",
              "      <td>0.005333</td>\n",
              "      <td>0.008233</td>\n",
              "      <td>0.012817</td>\n",
              "      <td>0.000517</td>\n",
              "      <td>0.000117</td>\n",
              "      <td>0.000017</td>\n",
              "      <td>0.032183</td>\n",
              "      <td>0.000950</td>\n",
              "      <td>0.003767</td>\n",
              "      <td>0.000950</td>\n",
              "      <td>0.003217</td>\n",
              "      <td>35.12</td>\n",
              "      <td>rain</td>\n",
              "      <td>0.86</td>\n",
              "      <td>8.74</td>\n",
              "      <td>Light Rain</td>\n",
              "      <td>29.45</td>\n",
              "      <td>1011.49</td>\n",
              "      <td>6.72</td>\n",
              "      <td>0.31</td>\n",
              "      <td>186.0</td>\n",
              "      <td>0.0101</td>\n",
              "      <td>31.27</td>\n",
              "      <td>0.51</td>\n",
              "    </tr>\n",
              "    <tr>\n",
              "      <th>503909</th>\n",
              "      <td>1452128309</td>\n",
              "      <td>1.990950</td>\n",
              "      <td>0.003233</td>\n",
              "      <td>1.990950</td>\n",
              "      <td>0.000050</td>\n",
              "      <td>0.494700</td>\n",
              "      <td>0.634133</td>\n",
              "      <td>0.042100</td>\n",
              "      <td>0.004917</td>\n",
              "      <td>0.008133</td>\n",
              "      <td>0.012833</td>\n",
              "      <td>0.000517</td>\n",
              "      <td>0.000117</td>\n",
              "      <td>0.000017</td>\n",
              "      <td>0.032167</td>\n",
              "      <td>0.000950</td>\n",
              "      <td>0.003767</td>\n",
              "      <td>0.000950</td>\n",
              "      <td>0.003233</td>\n",
              "      <td>35.12</td>\n",
              "      <td>rain</td>\n",
              "      <td>0.86</td>\n",
              "      <td>8.74</td>\n",
              "      <td>Light Rain</td>\n",
              "      <td>29.45</td>\n",
              "      <td>1011.49</td>\n",
              "      <td>6.72</td>\n",
              "      <td>0.31</td>\n",
              "      <td>186.0</td>\n",
              "      <td>0.0101</td>\n",
              "      <td>31.27</td>\n",
              "      <td>0.51</td>\n",
              "    </tr>\n",
              "    <tr>\n",
              "      <th>503910</th>\n",
              "      <td>\\</td>\n",
              "      <td>NaN</td>\n",
              "      <td>NaN</td>\n",
              "      <td>NaN</td>\n",
              "      <td>NaN</td>\n",
              "      <td>NaN</td>\n",
              "      <td>NaN</td>\n",
              "      <td>NaN</td>\n",
              "      <td>NaN</td>\n",
              "      <td>NaN</td>\n",
              "      <td>NaN</td>\n",
              "      <td>NaN</td>\n",
              "      <td>NaN</td>\n",
              "      <td>NaN</td>\n",
              "      <td>NaN</td>\n",
              "      <td>NaN</td>\n",
              "      <td>NaN</td>\n",
              "      <td>NaN</td>\n",
              "      <td>NaN</td>\n",
              "      <td>NaN</td>\n",
              "      <td>NaN</td>\n",
              "      <td>NaN</td>\n",
              "      <td>NaN</td>\n",
              "      <td>NaN</td>\n",
              "      <td>NaN</td>\n",
              "      <td>NaN</td>\n",
              "      <td>NaN</td>\n",
              "      <td>NaN</td>\n",
              "      <td>NaN</td>\n",
              "      <td>NaN</td>\n",
              "      <td>NaN</td>\n",
              "      <td>NaN</td>\n",
              "    </tr>\n",
              "  </tbody>\n",
              "</table>\n",
              "</div>"
            ],
            "text/plain": [
              "              time  use [kW]  ...  dewPoint  precipProbability\n",
              "503901  1452128301  1.537383  ...     31.27               0.51\n",
              "503902  1452128302  1.551817  ...     31.27               0.51\n",
              "503903  1452128303  1.599617  ...     31.27               0.51\n",
              "503904  1452128304  1.608867  ...     31.27               0.51\n",
              "503905  1452128305  1.601233  ...     31.27               0.51\n",
              "503906  1452128306  1.599333  ...     31.27               0.51\n",
              "503907  1452128307  1.924267  ...     31.27               0.51\n",
              "503908  1452128308  1.978200  ...     31.27               0.51\n",
              "503909  1452128309  1.990950  ...     31.27               0.51\n",
              "503910           \\       NaN  ...       NaN                NaN\n",
              "\n",
              "[10 rows x 32 columns]"
            ]
          },
          "metadata": {
            "tags": []
          },
          "execution_count": 11
        }
      ]
    },
    {
      "cell_type": "markdown",
      "metadata": {
        "id": "vmD8sD1LW73G"
      },
      "source": [
        "> Wee see that the last row is invalid, so let's remove it."
      ]
    },
    {
      "cell_type": "markdown",
      "metadata": {
        "id": "vcdGAneHZ2Nq"
      },
      "source": [
        "#Data Preprocessing"
      ]
    },
    {
      "cell_type": "code",
      "metadata": {
        "trusted": true,
        "colab": {
          "base_uri": "https://localhost:8080/",
          "height": 343
        },
        "id": "B84PvJB_W73G",
        "outputId": "5f781a27-657d-494c-83b5-27a070e12bc9"
      },
      "source": [
        "dataset = dataset[0:-1] ## == dataset[0:dataset.shape[0]-1] == dataset[0:len(dataset)-1] == dataset[:-1]\n",
        "dataset.tail()"
      ],
      "execution_count": 12,
      "outputs": [
        {
          "output_type": "execute_result",
          "data": {
            "text/html": [
              "<div>\n",
              "<style scoped>\n",
              "    .dataframe tbody tr th:only-of-type {\n",
              "        vertical-align: middle;\n",
              "    }\n",
              "\n",
              "    .dataframe tbody tr th {\n",
              "        vertical-align: top;\n",
              "    }\n",
              "\n",
              "    .dataframe thead th {\n",
              "        text-align: right;\n",
              "    }\n",
              "</style>\n",
              "<table border=\"1\" class=\"dataframe\">\n",
              "  <thead>\n",
              "    <tr style=\"text-align: right;\">\n",
              "      <th></th>\n",
              "      <th>time</th>\n",
              "      <th>use [kW]</th>\n",
              "      <th>gen [kW]</th>\n",
              "      <th>House overall [kW]</th>\n",
              "      <th>Dishwasher [kW]</th>\n",
              "      <th>Furnace 1 [kW]</th>\n",
              "      <th>Furnace 2 [kW]</th>\n",
              "      <th>Home office [kW]</th>\n",
              "      <th>Fridge [kW]</th>\n",
              "      <th>Wine cellar [kW]</th>\n",
              "      <th>Garage door [kW]</th>\n",
              "      <th>Kitchen 12 [kW]</th>\n",
              "      <th>Kitchen 14 [kW]</th>\n",
              "      <th>Kitchen 38 [kW]</th>\n",
              "      <th>Barn [kW]</th>\n",
              "      <th>Well [kW]</th>\n",
              "      <th>Microwave [kW]</th>\n",
              "      <th>Living room [kW]</th>\n",
              "      <th>Solar [kW]</th>\n",
              "      <th>temperature</th>\n",
              "      <th>icon</th>\n",
              "      <th>humidity</th>\n",
              "      <th>visibility</th>\n",
              "      <th>summary</th>\n",
              "      <th>apparentTemperature</th>\n",
              "      <th>pressure</th>\n",
              "      <th>windSpeed</th>\n",
              "      <th>cloudCover</th>\n",
              "      <th>windBearing</th>\n",
              "      <th>precipIntensity</th>\n",
              "      <th>dewPoint</th>\n",
              "      <th>precipProbability</th>\n",
              "    </tr>\n",
              "  </thead>\n",
              "  <tbody>\n",
              "    <tr>\n",
              "      <th>503905</th>\n",
              "      <td>1452128305</td>\n",
              "      <td>1.601233</td>\n",
              "      <td>0.003183</td>\n",
              "      <td>1.601233</td>\n",
              "      <td>0.000050</td>\n",
              "      <td>0.085267</td>\n",
              "      <td>0.642417</td>\n",
              "      <td>0.041783</td>\n",
              "      <td>0.005267</td>\n",
              "      <td>0.008667</td>\n",
              "      <td>0.013483</td>\n",
              "      <td>0.000467</td>\n",
              "      <td>0.000150</td>\n",
              "      <td>0.000017</td>\n",
              "      <td>0.032283</td>\n",
              "      <td>0.000983</td>\n",
              "      <td>0.003800</td>\n",
              "      <td>0.000967</td>\n",
              "      <td>0.003183</td>\n",
              "      <td>35.12</td>\n",
              "      <td>rain</td>\n",
              "      <td>0.86</td>\n",
              "      <td>8.74</td>\n",
              "      <td>Light Rain</td>\n",
              "      <td>29.45</td>\n",
              "      <td>1011.49</td>\n",
              "      <td>6.72</td>\n",
              "      <td>0.31</td>\n",
              "      <td>186.0</td>\n",
              "      <td>0.0101</td>\n",
              "      <td>31.27</td>\n",
              "      <td>0.51</td>\n",
              "    </tr>\n",
              "    <tr>\n",
              "      <th>503906</th>\n",
              "      <td>1452128306</td>\n",
              "      <td>1.599333</td>\n",
              "      <td>0.003233</td>\n",
              "      <td>1.599333</td>\n",
              "      <td>0.000050</td>\n",
              "      <td>0.104017</td>\n",
              "      <td>0.625033</td>\n",
              "      <td>0.041750</td>\n",
              "      <td>0.005233</td>\n",
              "      <td>0.008433</td>\n",
              "      <td>0.013433</td>\n",
              "      <td>0.000467</td>\n",
              "      <td>0.000100</td>\n",
              "      <td>0.000033</td>\n",
              "      <td>0.032200</td>\n",
              "      <td>0.000950</td>\n",
              "      <td>0.003800</td>\n",
              "      <td>0.000933</td>\n",
              "      <td>0.003233</td>\n",
              "      <td>35.12</td>\n",
              "      <td>rain</td>\n",
              "      <td>0.86</td>\n",
              "      <td>8.74</td>\n",
              "      <td>Light Rain</td>\n",
              "      <td>29.45</td>\n",
              "      <td>1011.49</td>\n",
              "      <td>6.72</td>\n",
              "      <td>0.31</td>\n",
              "      <td>186.0</td>\n",
              "      <td>0.0101</td>\n",
              "      <td>31.27</td>\n",
              "      <td>0.51</td>\n",
              "    </tr>\n",
              "    <tr>\n",
              "      <th>503907</th>\n",
              "      <td>1452128307</td>\n",
              "      <td>1.924267</td>\n",
              "      <td>0.003217</td>\n",
              "      <td>1.924267</td>\n",
              "      <td>0.000033</td>\n",
              "      <td>0.422383</td>\n",
              "      <td>0.637733</td>\n",
              "      <td>0.042033</td>\n",
              "      <td>0.004983</td>\n",
              "      <td>0.008467</td>\n",
              "      <td>0.012933</td>\n",
              "      <td>0.000533</td>\n",
              "      <td>0.000067</td>\n",
              "      <td>0.000000</td>\n",
              "      <td>0.032283</td>\n",
              "      <td>0.001000</td>\n",
              "      <td>0.003750</td>\n",
              "      <td>0.001000</td>\n",
              "      <td>0.003217</td>\n",
              "      <td>35.12</td>\n",
              "      <td>rain</td>\n",
              "      <td>0.86</td>\n",
              "      <td>8.74</td>\n",
              "      <td>Light Rain</td>\n",
              "      <td>29.45</td>\n",
              "      <td>1011.49</td>\n",
              "      <td>6.72</td>\n",
              "      <td>0.31</td>\n",
              "      <td>186.0</td>\n",
              "      <td>0.0101</td>\n",
              "      <td>31.27</td>\n",
              "      <td>0.51</td>\n",
              "    </tr>\n",
              "    <tr>\n",
              "      <th>503908</th>\n",
              "      <td>1452128308</td>\n",
              "      <td>1.978200</td>\n",
              "      <td>0.003217</td>\n",
              "      <td>1.978200</td>\n",
              "      <td>0.000050</td>\n",
              "      <td>0.495667</td>\n",
              "      <td>0.620367</td>\n",
              "      <td>0.042100</td>\n",
              "      <td>0.005333</td>\n",
              "      <td>0.008233</td>\n",
              "      <td>0.012817</td>\n",
              "      <td>0.000517</td>\n",
              "      <td>0.000117</td>\n",
              "      <td>0.000017</td>\n",
              "      <td>0.032183</td>\n",
              "      <td>0.000950</td>\n",
              "      <td>0.003767</td>\n",
              "      <td>0.000950</td>\n",
              "      <td>0.003217</td>\n",
              "      <td>35.12</td>\n",
              "      <td>rain</td>\n",
              "      <td>0.86</td>\n",
              "      <td>8.74</td>\n",
              "      <td>Light Rain</td>\n",
              "      <td>29.45</td>\n",
              "      <td>1011.49</td>\n",
              "      <td>6.72</td>\n",
              "      <td>0.31</td>\n",
              "      <td>186.0</td>\n",
              "      <td>0.0101</td>\n",
              "      <td>31.27</td>\n",
              "      <td>0.51</td>\n",
              "    </tr>\n",
              "    <tr>\n",
              "      <th>503909</th>\n",
              "      <td>1452128309</td>\n",
              "      <td>1.990950</td>\n",
              "      <td>0.003233</td>\n",
              "      <td>1.990950</td>\n",
              "      <td>0.000050</td>\n",
              "      <td>0.494700</td>\n",
              "      <td>0.634133</td>\n",
              "      <td>0.042100</td>\n",
              "      <td>0.004917</td>\n",
              "      <td>0.008133</td>\n",
              "      <td>0.012833</td>\n",
              "      <td>0.000517</td>\n",
              "      <td>0.000117</td>\n",
              "      <td>0.000017</td>\n",
              "      <td>0.032167</td>\n",
              "      <td>0.000950</td>\n",
              "      <td>0.003767</td>\n",
              "      <td>0.000950</td>\n",
              "      <td>0.003233</td>\n",
              "      <td>35.12</td>\n",
              "      <td>rain</td>\n",
              "      <td>0.86</td>\n",
              "      <td>8.74</td>\n",
              "      <td>Light Rain</td>\n",
              "      <td>29.45</td>\n",
              "      <td>1011.49</td>\n",
              "      <td>6.72</td>\n",
              "      <td>0.31</td>\n",
              "      <td>186.0</td>\n",
              "      <td>0.0101</td>\n",
              "      <td>31.27</td>\n",
              "      <td>0.51</td>\n",
              "    </tr>\n",
              "  </tbody>\n",
              "</table>\n",
              "</div>"
            ],
            "text/plain": [
              "              time  use [kW]  ...  dewPoint  precipProbability\n",
              "503905  1452128305  1.601233  ...     31.27               0.51\n",
              "503906  1452128306  1.599333  ...     31.27               0.51\n",
              "503907  1452128307  1.924267  ...     31.27               0.51\n",
              "503908  1452128308  1.978200  ...     31.27               0.51\n",
              "503909  1452128309  1.990950  ...     31.27               0.51\n",
              "\n",
              "[5 rows x 32 columns]"
            ]
          },
          "metadata": {
            "tags": []
          },
          "execution_count": 12
        }
      ]
    },
    {
      "cell_type": "code",
      "metadata": {
        "trusted": true,
        "colab": {
          "base_uri": "https://localhost:8080/"
        },
        "id": "VM6Pj2EJW73G",
        "outputId": "4113ae69-2e95-45bf-e22e-4d6953168287"
      },
      "source": [
        "## pandas.DataFrame.columns: The column labels of the DataFrame.\n",
        "dataset.columns"
      ],
      "execution_count": 13,
      "outputs": [
        {
          "output_type": "execute_result",
          "data": {
            "text/plain": [
              "Index(['time', 'use [kW]', 'gen [kW]', 'House overall [kW]', 'Dishwasher [kW]',\n",
              "       'Furnace 1 [kW]', 'Furnace 2 [kW]', 'Home office [kW]', 'Fridge [kW]',\n",
              "       'Wine cellar [kW]', 'Garage door [kW]', 'Kitchen 12 [kW]',\n",
              "       'Kitchen 14 [kW]', 'Kitchen 38 [kW]', 'Barn [kW]', 'Well [kW]',\n",
              "       'Microwave [kW]', 'Living room [kW]', 'Solar [kW]', 'temperature',\n",
              "       'icon', 'humidity', 'visibility', 'summary', 'apparentTemperature',\n",
              "       'pressure', 'windSpeed', 'cloudCover', 'windBearing', 'precipIntensity',\n",
              "       'dewPoint', 'precipProbability'],\n",
              "      dtype='object')"
            ]
          },
          "metadata": {
            "tags": []
          },
          "execution_count": 13
        }
      ]
    },
    {
      "cell_type": "markdown",
      "metadata": {
        "id": "SCFvjQsTW73H"
      },
      "source": [
        "> Let's clean the columns names by removing the `[kW]` uint."
      ]
    },
    {
      "cell_type": "code",
      "metadata": {
        "trusted": true,
        "colab": {
          "base_uri": "https://localhost:8080/"
        },
        "id": "pWgdVf7YW73H",
        "outputId": "e1f04343-9364-4488-a3de-bff54c45ddc0"
      },
      "source": [
        "# Python string method replace() returns a copy of the string in which the occurrences of old have been replaced with new, \n",
        "#optionally restricting the number of replacements to max.\n",
        "dataset.columns = [col.replace(' [kW]', '') for col in dataset.columns]\n",
        "dataset.columns"
      ],
      "execution_count": 14,
      "outputs": [
        {
          "output_type": "execute_result",
          "data": {
            "text/plain": [
              "Index(['time', 'use', 'gen', 'House overall', 'Dishwasher', 'Furnace 1',\n",
              "       'Furnace 2', 'Home office', 'Fridge', 'Wine cellar', 'Garage door',\n",
              "       'Kitchen 12', 'Kitchen 14', 'Kitchen 38', 'Barn', 'Well', 'Microwave',\n",
              "       'Living room', 'Solar', 'temperature', 'icon', 'humidity', 'visibility',\n",
              "       'summary', 'apparentTemperature', 'pressure', 'windSpeed', 'cloudCover',\n",
              "       'windBearing', 'precipIntensity', 'dewPoint', 'precipProbability'],\n",
              "      dtype='object')"
            ]
          },
          "metadata": {
            "tags": []
          },
          "execution_count": 14
        }
      ]
    },
    {
      "cell_type": "markdown",
      "metadata": {
        "id": "gaEyvi8maCF_"
      },
      "source": [
        "#Feature Engineering"
      ]
    },
    {
      "cell_type": "markdown",
      "metadata": {
        "id": "-SXqasncW73H"
      },
      "source": [
        "> Sometimes we are only interest in an aggregated result. To make it easy, we can make a new column and save the desired result in that new column.\n",
        "> For example: if we are interested in the `total` energy usage by both `furnaces` or the `average` usage of all `kitchens`:"
      ]
    },
    {
      "cell_type": "code",
      "metadata": {
        "trusted": true,
        "id": "PMyvhXeHW73H"
      },
      "source": [
        "dataset['sum_Furnace'] = dataset[['Furnace 1','Furnace 2']].sum(axis=1)\n",
        "dataset['avg_Kitchen'] = dataset[['Kitchen 12','Kitchen 14','Kitchen 38']].mean(axis=1)"
      ],
      "execution_count": 15,
      "outputs": []
    },
    {
      "cell_type": "markdown",
      "metadata": {
        "id": "jEsDsWTBW73I"
      },
      "source": [
        "> If you do not need old columns, you can drop them."
      ]
    },
    {
      "cell_type": "code",
      "metadata": {
        "trusted": true,
        "colab": {
          "base_uri": "https://localhost:8080/"
        },
        "id": "ePJ_-ga1W73I",
        "outputId": "af2abf20-bee2-40e8-e3f4-3ee739038f26"
      },
      "source": [
        "dataset = dataset.drop(['Kitchen 12','Kitchen 14','Kitchen 38'], axis=1)\n",
        "dataset = dataset.drop(['Furnace 1','Furnace 2'], axis=1)\n",
        "dataset.columns"
      ],
      "execution_count": 16,
      "outputs": [
        {
          "output_type": "execute_result",
          "data": {
            "text/plain": [
              "Index(['time', 'use', 'gen', 'House overall', 'Dishwasher', 'Home office',\n",
              "       'Fridge', 'Wine cellar', 'Garage door', 'Barn', 'Well', 'Microwave',\n",
              "       'Living room', 'Solar', 'temperature', 'icon', 'humidity', 'visibility',\n",
              "       'summary', 'apparentTemperature', 'pressure', 'windSpeed', 'cloudCover',\n",
              "       'windBearing', 'precipIntensity', 'dewPoint', 'precipProbability',\n",
              "       'sum_Furnace', 'avg_Kitchen'],\n",
              "      dtype='object')"
            ]
          },
          "metadata": {
            "tags": []
          },
          "execution_count": 16
        }
      ]
    },
    {
      "cell_type": "markdown",
      "metadata": {
        "id": "qqdg8_WPW73I"
      },
      "source": [
        "* In this dataset, time is recorded in the [Unix Time](https://en.wikipedia.org/wiki/Unix_time) format.\n",
        "> Unix Time represents the number of seconds that have passed since `00:00:00 UTC Thursday, 1 January 1970`."
      ]
    },
    {
      "cell_type": "code",
      "metadata": {
        "trusted": true,
        "colab": {
          "base_uri": "https://localhost:8080/"
        },
        "id": "tTl_bVEHW73I",
        "outputId": "48edc00e-c7f7-46e7-951a-17aeec960185"
      },
      "source": [
        "dataset['time'].head()"
      ],
      "execution_count": 17,
      "outputs": [
        {
          "output_type": "execute_result",
          "data": {
            "text/plain": [
              "0    1451624400\n",
              "1    1451624401\n",
              "2    1451624402\n",
              "3    1451624403\n",
              "4    1451624404\n",
              "Name: time, dtype: object"
            ]
          },
          "metadata": {
            "tags": []
          },
          "execution_count": 17
        }
      ]
    },
    {
      "cell_type": "markdown",
      "metadata": {
        "id": "iaFATTYLW73J"
      },
      "source": [
        "> We would like to convert this large number that represents a unix timestamp (i.e. \"1284101485\") to a readable date. So, one idea is to now when is the `start time`."
      ]
    },
    {
      "cell_type": "code",
      "metadata": {
        "trusted": true,
        "colab": {
          "base_uri": "https://localhost:8080/"
        },
        "id": "zYMJ0VGTW73J",
        "outputId": "3ba75291-2048-4a9f-ef23-d1ebbfae251a"
      },
      "source": [
        "import time \n",
        "print(' start ' , time.strftime('%Y-%m-%d %H:%M:%S', time.localtime(1451624400)))"
      ],
      "execution_count": 18,
      "outputs": [
        {
          "output_type": "stream",
          "text": [
            " start  2016-01-01 05:00:00\n"
          ],
          "name": "stdout"
        }
      ]
    },
    {
      "cell_type": "code",
      "metadata": {
        "colab": {
          "base_uri": "https://localhost:8080/"
        },
        "id": "gO43uVUC86Pc",
        "outputId": "29c33253-97a1-4722-f9f7-f234eb78506a"
      },
      "source": [
        "import time \r\n",
        "print(' start ' , time.strftime('%Y-%m-%d %H:%M:%S', time.localtime(int(dataset['time'].iloc[0]))))"
      ],
      "execution_count": 19,
      "outputs": [
        {
          "output_type": "stream",
          "text": [
            " start  2016-01-01 05:00:00\n"
          ],
          "name": "stdout"
        }
      ]
    },
    {
      "cell_type": "markdown",
      "metadata": {
        "id": "1BQwfq2bW73J"
      },
      "source": [
        ">  Data publisher says the dataset contains the readings with a time span of `1 minute` of house appliances\n",
        "in `kW` from a `smart meter` and `weather conditions` of that particular region.\n",
        "So, we set `freq='min'` and convert Uinx time to readable date."
      ]
    },
    {
      "cell_type": "code",
      "metadata": {
        "trusted": true,
        "colab": {
          "base_uri": "https://localhost:8080/"
        },
        "id": "HuqJBy6QW73J",
        "outputId": "e3130190-f394-4ebc-e4f1-ed6b71eaca12"
      },
      "source": [
        "time_index = pd.date_range('2016-01-01 05:00', periods=len(dataset),  freq='min')  \n",
        "time_index = pd.DatetimeIndex(time_index)\n",
        "dataset = dataset.set_index(time_index)\n",
        "dataset = dataset.drop(['time'], axis=1)\n",
        "dataset.iloc[np.r_[0:5,-5:0]].iloc[:,0] #numpy.r is the simple way to build up arrays quickly,\n",
        "#you can use the array to index your dataframe. For example, here I want to see the first and the last 5 samples"
      ],
      "execution_count": 20,
      "outputs": [
        {
          "output_type": "execute_result",
          "data": {
            "text/plain": [
              "2016-01-01 05:00:00    0.932833\n",
              "2016-01-01 05:01:00    0.934333\n",
              "2016-01-01 05:02:00    0.931817\n",
              "2016-01-01 05:03:00    1.022050\n",
              "2016-01-01 05:04:00    1.139400\n",
              "2016-12-16 03:25:00    1.601233\n",
              "2016-12-16 03:26:00    1.599333\n",
              "2016-12-16 03:27:00    1.924267\n",
              "2016-12-16 03:28:00    1.978200\n",
              "2016-12-16 03:29:00    1.990950\n",
              "Name: use, dtype: float64"
            ]
          },
          "metadata": {
            "tags": []
          },
          "execution_count": 20
        }
      ]
    },
    {
      "cell_type": "code",
      "metadata": {
        "trusted": true,
        "colab": {
          "base_uri": "https://localhost:8080/"
        },
        "id": "jlu3phMNW73K",
        "outputId": "50d8e3f6-65ea-404a-9c21-f201d11cdc07"
      },
      "source": [
        "dataset.shape"
      ],
      "execution_count": 21,
      "outputs": [
        {
          "output_type": "execute_result",
          "data": {
            "text/plain": [
              "(503910, 28)"
            ]
          },
          "metadata": {
            "tags": []
          },
          "execution_count": 21
        }
      ]
    },
    {
      "cell_type": "markdown",
      "metadata": {
        "id": "I9_vzwpCW73K"
      },
      "source": [
        "> We have 500K rows and each row shows the home status at a specific `minute`.\n",
        "Let's plot the `temperature` data and see what is the result."
      ]
    },
    {
      "cell_type": "code",
      "metadata": {
        "trusted": true,
        "colab": {
          "base_uri": "https://localhost:8080/",
          "height": 307
        },
        "id": "U2E-FjECW73K",
        "outputId": "c043a269-0af1-4c7d-9ae0-e7c1c7d805ee"
      },
      "source": [
        "dataset['temperature'].plot(figsize=(25,5))"
      ],
      "execution_count": 22,
      "outputs": [
        {
          "output_type": "execute_result",
          "data": {
            "text/plain": [
              "<matplotlib.axes._subplots.AxesSubplot at 0x7ff90f278940>"
            ]
          },
          "metadata": {
            "tags": []
          },
          "execution_count": 22
        },
        {
          "output_type": "display_data",
          "data": {
            "image/png": "[encoded data removed]",
            "text/plain": [
              "<Figure size 1800x360 with 1 Axes>"
            ]
          },
          "metadata": {
            "tags": [],
            "needs_background": "light"
          }
        }
      ]
    },
    {
      "cell_type": "markdown",
      "metadata": {
        "id": "1Mzss4gdW73K"
      },
      "source": [
        "> It may seem too noisy to you. We can `resample` data by taking the `average temperature` every `day` and then plot it."
      ]
    },
    {
      "cell_type": "code",
      "metadata": {
        "trusted": true,
        "colab": {
          "base_uri": "https://localhost:8080/",
          "height": 307
        },
        "id": "a-Nl9b3pW73K",
        "outputId": "274b497c-d313-4e78-a396-edd037b1625f"
      },
      "source": [
        "## pandas.DataFrame.resample: Convenience method for frequency conversion and resampling of time series. \n",
        "dataset['temperature'].resample(rule='D').mean().plot(figsize=(25,5)) #D calendar day frequency"
      ],
      "execution_count": 23,
      "outputs": [
        {
          "output_type": "execute_result",
          "data": {
            "text/plain": [
              "<matplotlib.axes._subplots.AxesSubplot at 0x7ff90abc16d8>"
            ]
          },
          "metadata": {
            "tags": []
          },
          "execution_count": 23
        },
        {
          "output_type": "display_data",
          "data": {
            "image/png": "[encoded data removed]",
            "text/plain": [
              "<Figure size 1800x360 with 1 Axes>"
            ]
          },
          "metadata": {
            "tags": [],
            "needs_background": "light"
          }
        }
      ]
    },
    {
      "cell_type": "markdown",
      "metadata": {
        "id": "Q4X_G21hW73L"
      },
      "source": [
        "> Here are the `rule`s you can use:\n",
        "- B         business day frequency\n",
        "- C         custom business day frequency (experimental)\n",
        "- D         calendar day frequency\n",
        "- W         weekly frequency\n",
        "- M         month end frequency\n",
        "- SM        semi-month end frequency (15th and end of month)\n",
        "- BM        business month end frequency\n",
        "- CBM       custom business month end frequency\n",
        "- MS        month start frequency\n",
        "- SMS       semi-month start frequency (1st and 15th)\n",
        "- BMS       business month start frequency\n",
        "- CBMS      custom business month start frequency\n",
        "- Q         quarter end frequency\n",
        "- BQ        business quarter endfrequency\n",
        "- QS        quarter start frequency\n",
        "- BQS       business quarter start frequency\n",
        "- A         year end frequency\n",
        "- BA, BY    business year end frequency\n",
        "- AS, YS    year start frequency\n",
        "- BAS, BYS  business year start frequency\n",
        "- BH        business hour frequency\n",
        "- H         hourly frequency\n",
        "- T, min    minutely frequency\n",
        "- S         secondly frequency\n",
        "- L, ms     milliseconds\n",
        "- U, us     microseconds\n",
        "- N         nanoseconds"
      ]
    },
    {
      "cell_type": "code",
      "metadata": {
        "trusted": true,
        "id": "jytSb48UW73L"
      },
      "source": [
        "import matplotlib.pyplot as plt\n",
        "plt.rcParams[\"figure.figsize\"] = (25,5)"
      ],
      "execution_count": 24,
      "outputs": []
    },
    {
      "cell_type": "markdown",
      "metadata": {
        "id": "bKcSM1HgW73M"
      },
      "source": [
        "Now, we look at the dataset columns"
      ]
    },
    {
      "cell_type": "code",
      "metadata": {
        "trusted": true,
        "colab": {
          "base_uri": "https://localhost:8080/"
        },
        "id": "nYVz5ETKW73M",
        "outputId": "521138e8-369e-46d4-9b48-13100afb0c14"
      },
      "source": [
        "dataset.columns"
      ],
      "execution_count": 25,
      "outputs": [
        {
          "output_type": "execute_result",
          "data": {
            "text/plain": [
              "Index(['use', 'gen', 'House overall', 'Dishwasher', 'Home office', 'Fridge',\n",
              "       'Wine cellar', 'Garage door', 'Barn', 'Well', 'Microwave',\n",
              "       'Living room', 'Solar', 'temperature', 'icon', 'humidity', 'visibility',\n",
              "       'summary', 'apparentTemperature', 'pressure', 'windSpeed', 'cloudCover',\n",
              "       'windBearing', 'precipIntensity', 'dewPoint', 'precipProbability',\n",
              "       'sum_Furnace', 'avg_Kitchen'],\n",
              "      dtype='object')"
            ]
          },
          "metadata": {
            "tags": []
          },
          "execution_count": 25
        }
      ]
    },
    {
      "cell_type": "markdown",
      "metadata": {
        "id": "2Pxzi-VAW73M"
      },
      "source": [
        "> It seems `use` and `House overall` show the same data. Let's visualize these two columns."
      ]
    },
    {
      "cell_type": "code",
      "metadata": {
        "trusted": true,
        "colab": {
          "base_uri": "https://localhost:8080/",
          "height": 309
        },
        "id": "xZwpK0NGW73M",
        "outputId": "3d605075-ea31-46b9-bd59-74cd8f3c9169"
      },
      "source": [
        "fig, axes = plt.subplots(nrows=2, ncols=1)\n",
        "dataset['use'].resample('D').mean().plot(ax=axes[0]) #D calendar day frequency\n",
        "dataset['House overall'].resample('D').mean().plot(ax=axes[1]) #D calendar day frequency"
      ],
      "execution_count": 26,
      "outputs": [
        {
          "output_type": "execute_result",
          "data": {
            "text/plain": [
              "<matplotlib.axes._subplots.AxesSubplot at 0x7ff909268da0>"
            ]
          },
          "metadata": {
            "tags": []
          },
          "execution_count": 26
        },
        {
          "output_type": "display_data",
          "data": {
            "image/png": "[encoded data removed]",
            "text/plain": [
              "<Figure size 1800x360 with 2 Axes>"
            ]
          },
          "metadata": {
            "tags": [],
            "needs_background": "light"
          }
        }
      ]
    },
    {
      "cell_type": "markdown",
      "metadata": {
        "id": "FOKeqiHuW73N"
      },
      "source": [
        "> They are same. It's better to remove one of them."
      ]
    },
    {
      "cell_type": "code",
      "metadata": {
        "trusted": true,
        "colab": {
          "base_uri": "https://localhost:8080/"
        },
        "id": "dsm1za8RW73N",
        "outputId": "f3bc5f52-0914-430a-e2cb-59582750f992"
      },
      "source": [
        "dataset = dataset.drop(columns=['House overall'])\n",
        "dataset.shape"
      ],
      "execution_count": 27,
      "outputs": [
        {
          "output_type": "execute_result",
          "data": {
            "text/plain": [
              "(503910, 27)"
            ]
          },
          "metadata": {
            "tags": []
          },
          "execution_count": 27
        }
      ]
    },
    {
      "cell_type": "markdown",
      "metadata": {
        "id": "qDMo8ug7W73N"
      },
      "source": [
        "> Columns `summary` and `icon` are not numerical. "
      ]
    },
    {
      "cell_type": "code",
      "metadata": {
        "trusted": true,
        "colab": {
          "base_uri": "https://localhost:8080/"
        },
        "id": "Rmw5S_-rW73N",
        "outputId": "e8a0b3b2-ed50-415c-f93c-cf8749c32b38"
      },
      "source": [
        "## pandas.Series.value_counts: Return a Series containing counts of unique values.\n",
        "dataset['icon'].value_counts()"
      ],
      "execution_count": 28,
      "outputs": [
        {
          "output_type": "execute_result",
          "data": {
            "text/plain": [
              "clear-night            194536\n",
              "clear-day              182252\n",
              "rain                    43081\n",
              "partly-cloudy-day       39492\n",
              "partly-cloudy-night     27324\n",
              "snow                     7550\n",
              "cloudy                   6041\n",
              "wind                     2660\n",
              "fog                       974\n",
              "Name: icon, dtype: int64"
            ]
          },
          "metadata": {
            "tags": []
          },
          "execution_count": 28
        }
      ]
    },
    {
      "cell_type": "code",
      "metadata": {
        "trusted": true,
        "colab": {
          "base_uri": "https://localhost:8080/"
        },
        "id": "LGYln6ktW73N",
        "outputId": "ff8437cf-e6ac-4f74-9de4-1948d72fb0bc"
      },
      "source": [
        "## pandas.Series.value_counts: Return a Series containing counts of unique values.\n",
        "dataset['summary'].value_counts()"
      ],
      "execution_count": 29,
      "outputs": [
        {
          "output_type": "execute_result",
          "data": {
            "text/plain": [
              "Clear                       376730\n",
              "Partly Cloudy                62268\n",
              "Light Rain                   27368\n",
              "Drizzle                      10370\n",
              "Overcast                      6041\n",
              "Rain                          5169\n",
              "Mostly Cloudy                 4548\n",
              "Light Snow                    4323\n",
              "Flurries                      1789\n",
              "Breezy                        1561\n",
              "Snow                          1152\n",
              "Breezy and Partly Cloudy      1041\n",
              "Foggy                          974\n",
              "Rain and Breezy                174\n",
              "Heavy Snow                     171\n",
              "Flurries and Breezy            115\n",
              "Dry                             58\n",
              "Breezy and Mostly Cloudy        58\n",
              "Name: summary, dtype: int64"
            ]
          },
          "metadata": {
            "tags": []
          },
          "execution_count": 29
        }
      ]
    },
    {
      "cell_type": "code",
      "metadata": {
        "trusted": true,
        "colab": {
          "base_uri": "https://localhost:8080/"
        },
        "id": "Aj3vu5xXW73O",
        "outputId": "b7b71f5b-76b8-456e-c540-c9fadb7f9763"
      },
      "source": [
        "dataset = dataset.drop(columns=['summary', 'icon'])\n",
        "dataset.shape"
      ],
      "execution_count": 30,
      "outputs": [
        {
          "output_type": "execute_result",
          "data": {
            "text/plain": [
              "(503910, 25)"
            ]
          },
          "metadata": {
            "tags": []
          },
          "execution_count": 30
        }
      ]
    },
    {
      "cell_type": "code",
      "metadata": {
        "trusted": true,
        "colab": {
          "base_uri": "https://localhost:8080/"
        },
        "id": "QsP-4wr0W73O",
        "outputId": "91ccf66b-d3dd-42a9-f3ae-fc3f66cfd9c3"
      },
      "source": [
        "## pandas.Series.unique: Uniques are returned in order of appearance. Hash table-based unique, therefore does NOT sort.\n",
        "dataset['cloudCover'].unique()"
      ],
      "execution_count": 31,
      "outputs": [
        {
          "output_type": "execute_result",
          "data": {
            "text/plain": [
              "array(['cloudCover', '0.75', '0', '1', '0.31', '0.44', '0.13', '0.19',\n",
              "       '0.25', '0.16', '0.21', '0.15', '0.14', '0.27', '0.28', '0.17',\n",
              "       '0.05', '0.1', '0.26', '0.29', '0.11', '0.09', '0.12', '0.06',\n",
              "       '0.02', '0.08', '0.04', '0.35', '0.22', '0.23', '0.54', '0.39',\n",
              "       '0.03', '0.07', '0.76', '0.62', '0.18', '0.79', '0.48', '0.24',\n",
              "       '0.57', 0.24, 1.0, 0.31, 0.28, 0.15, 0.41, 0.1, 0.12, 0.08, 0.09,\n",
              "       0.19, 0.04, 0.05, 0.29, 0.27, 0.35, 0.18, 0.06, 0.03, 0.11, 0.14,\n",
              "       0.25, 0.78, 0.0, 0.16, 0.21, 0.23, 0.17, 0.75, 0.26, 0.2, 0.76,\n",
              "       0.13, 0.77, 0.46, 0.07, 0.55, 0.02, 0.01, 0.51, 0.47, 0.5, 0.4,\n",
              "       0.3, 0.22, 0.43, 0.33, 0.6, 0.68, 0.66, 0.45, 0.34, 0.52, 0.67,\n",
              "       0.48, 0.49, 0.39, 0.37, 0.62, 0.36, 0.79, 0.61, 0.38, 0.42, 0.53,\n",
              "       0.63, 0.44, 0.54, 0.32, 0.56, 0.58, 0.72, 0.57, 0.73, 0.71, 0.64,\n",
              "       0.59], dtype=object)"
            ]
          },
          "metadata": {
            "tags": []
          },
          "execution_count": 31
        }
      ]
    },
    {
      "cell_type": "markdown",
      "metadata": {
        "id": "CQ4nteEuW73O"
      },
      "source": [
        "> We see that for some rows we have an invalid value for `cloudCover`. "
      ]
    },
    {
      "cell_type": "code",
      "metadata": {
        "trusted": true,
        "colab": {
          "base_uri": "https://localhost:8080/"
        },
        "id": "-pU2G7A8W73O",
        "outputId": "721c49af-6795-4053-efaa-bca5087f83a3"
      },
      "source": [
        "dataset[dataset['cloudCover']=='cloudCover'].shape"
      ],
      "execution_count": 32,
      "outputs": [
        {
          "output_type": "execute_result",
          "data": {
            "text/plain": [
              "(58, 25)"
            ]
          },
          "metadata": {
            "tags": []
          },
          "execution_count": 32
        }
      ]
    },
    {
      "cell_type": "markdown",
      "metadata": {
        "id": "T79BiEJlW73P"
      },
      "source": [
        "> There are plenty of ways deal with this kind of invalid values. The simplest one is to remove rows that include this invalid value. but more sophisticated way is to replace them. see this: https://pandas.pydata.org/pandas-docs/stable/user_guide/missing_data.html"
      ]
    },
    {
      "cell_type": "code",
      "metadata": {
        "trusted": true,
        "colab": {
          "base_uri": "https://localhost:8080/"
        },
        "id": "y2TLqFKbW73P",
        "outputId": "42397d3b-1954-4596-c8c5-6454ff5d77d0"
      },
      "source": [
        "dataset['cloudCover'][56:60]"
      ],
      "execution_count": 33,
      "outputs": [
        {
          "output_type": "execute_result",
          "data": {
            "text/plain": [
              "2016-01-01 05:56:00    cloudCover\n",
              "2016-01-01 05:57:00    cloudCover\n",
              "2016-01-01 05:58:00          0.75\n",
              "2016-01-01 05:59:00          0.75\n",
              "Freq: T, Name: cloudCover, dtype: object"
            ]
          },
          "metadata": {
            "tags": []
          },
          "execution_count": 33
        }
      ]
    },
    {
      "cell_type": "markdown",
      "metadata": {
        "id": "ZZP246vgW73P"
      },
      "source": [
        "> We replace this missing valuess with the next valid observation  we have."
      ]
    },
    {
      "cell_type": "code",
      "metadata": {
        "trusted": true,
        "colab": {
          "base_uri": "https://localhost:8080/"
        },
        "id": "O1V1uEHJW73P",
        "outputId": "fa8ce3f6-78d0-45ce-9b27-52da73392496"
      },
      "source": [
        "dataset['cloudCover'].replace(['cloudCover'], method='bfill', inplace=True)\n",
        "dataset['cloudCover'] = dataset['cloudCover'].astype('float')\n",
        "dataset['cloudCover'].unique()"
      ],
      "execution_count": 34,
      "outputs": [
        {
          "output_type": "execute_result",
          "data": {
            "text/plain": [
              "array([0.75, 0.  , 1.  , 0.31, 0.44, 0.13, 0.19, 0.25, 0.16, 0.21, 0.15,\n",
              "       0.14, 0.27, 0.28, 0.17, 0.05, 0.1 , 0.26, 0.29, 0.11, 0.09, 0.12,\n",
              "       0.06, 0.02, 0.08, 0.04, 0.35, 0.22, 0.23, 0.54, 0.39, 0.03, 0.07,\n",
              "       0.76, 0.62, 0.18, 0.79, 0.48, 0.24, 0.57, 0.41, 0.78, 0.2 , 0.77,\n",
              "       0.46, 0.55, 0.01, 0.51, 0.47, 0.5 , 0.4 , 0.3 , 0.43, 0.33, 0.6 ,\n",
              "       0.68, 0.66, 0.45, 0.34, 0.52, 0.67, 0.49, 0.37, 0.36, 0.61, 0.38,\n",
              "       0.42, 0.53, 0.63, 0.32, 0.56, 0.58, 0.72, 0.73, 0.71, 0.64, 0.59])"
            ]
          },
          "metadata": {
            "tags": []
          },
          "execution_count": 34
        }
      ]
    },
    {
      "cell_type": "code",
      "metadata": {
        "trusted": true,
        "colab": {
          "base_uri": "https://localhost:8080/"
        },
        "id": "wfUxapK9W73P",
        "outputId": "50696b29-182e-47b2-af72-d7598d668954"
      },
      "source": [
        "dataset['cloudCover'][56:60]"
      ],
      "execution_count": 35,
      "outputs": [
        {
          "output_type": "execute_result",
          "data": {
            "text/plain": [
              "2016-01-01 05:56:00    0.75\n",
              "2016-01-01 05:57:00    0.75\n",
              "2016-01-01 05:58:00    0.75\n",
              "2016-01-01 05:59:00    0.75\n",
              "Freq: T, Name: cloudCover, dtype: float64"
            ]
          },
          "metadata": {
            "tags": []
          },
          "execution_count": 35
        }
      ]
    },
    {
      "cell_type": "code",
      "metadata": {
        "trusted": true,
        "colab": {
          "base_uri": "https://localhost:8080/"
        },
        "id": "5PMi7Y4aW73Q",
        "outputId": "ce622456-0266-4235-bd1c-6e37d28f948c"
      },
      "source": [
        "dataset.info()"
      ],
      "execution_count": 36,
      "outputs": [
        {
          "output_type": "stream",
          "text": [
            "<class 'pandas.core.frame.DataFrame'>\n",
            "DatetimeIndex: 503910 entries, 2016-01-01 05:00:00 to 2016-12-16 03:29:00\n",
            "Freq: T\n",
            "Data columns (total 25 columns):\n",
            " #   Column               Non-Null Count   Dtype  \n",
            "---  ------               --------------   -----  \n",
            " 0   use                  503910 non-null  float64\n",
            " 1   gen                  503910 non-null  float64\n",
            " 2   Dishwasher           503910 non-null  float64\n",
            " 3   Home office          503910 non-null  float64\n",
            " 4   Fridge               503910 non-null  float64\n",
            " 5   Wine cellar          503910 non-null  float64\n",
            " 6   Garage door          503910 non-null  float64\n",
            " 7   Barn                 503910 non-null  float64\n",
            " 8   Well                 503910 non-null  float64\n",
            " 9   Microwave            503910 non-null  float64\n",
            " 10  Living room          503910 non-null  float64\n",
            " 11  Solar                503910 non-null  float64\n",
            " 12  temperature          503910 non-null  float64\n",
            " 13  humidity             503910 non-null  float64\n",
            " 14  visibility           503910 non-null  float64\n",
            " 15  apparentTemperature  503910 non-null  float64\n",
            " 16  pressure             503910 non-null  float64\n",
            " 17  windSpeed            503910 non-null  float64\n",
            " 18  cloudCover           503910 non-null  float64\n",
            " 19  windBearing          503910 non-null  float64\n",
            " 20  precipIntensity      503910 non-null  float64\n",
            " 21  dewPoint             503910 non-null  float64\n",
            " 22  precipProbability    503910 non-null  float64\n",
            " 23  sum_Furnace          503910 non-null  float64\n",
            " 24  avg_Kitchen          503910 non-null  float64\n",
            "dtypes: float64(25)\n",
            "memory usage: 100.0 MB\n"
          ],
          "name": "stdout"
        }
      ]
    },
    {
      "cell_type": "code",
      "metadata": {
        "trusted": true,
        "colab": {
          "base_uri": "https://localhost:8080/"
        },
        "id": "SXRDwjRXW73Q",
        "outputId": "889caa4e-5ff2-4dff-e4f6-f0b4308cb87a"
      },
      "source": [
        "dataset = dataset.resample('D').mean()\n",
        "print(\"Shape of daily dataset: {} --> n_rows = {}, n_cols = {}\".format(dataset.shape, dataset.shape[0],dataset.shape[1]))"
      ],
      "execution_count": 37,
      "outputs": [
        {
          "output_type": "stream",
          "text": [
            "Shape of daily dataset: (351, 25) --> n_rows = 351, n_cols = 25\n"
          ],
          "name": "stdout"
        }
      ]
    },
    {
      "cell_type": "markdown",
      "metadata": {
        "id": "orh6Lip0W73U"
      },
      "source": [
        "# Time-Series Prediction with LSTM\n",
        "\n"
      ]
    },
    {
      "cell_type": "code",
      "metadata": {
        "id": "QWnGA_54uHCY"
      },
      "source": [
        "import numpy as np\r\n",
        "import matplotlib.pyplot as plt\r\n",
        "import pandas as pd\r\n",
        "import tensorflow as tf\r\n",
        "from tensorflow import keras\r\n",
        "np.random.seed(42)\r\n",
        "tf.random.set_seed(42)"
      ],
      "execution_count": 38,
      "outputs": []
    },
    {
      "cell_type": "code",
      "metadata": {
        "id": "-UMUZy0huSZG"
      },
      "source": [
        "usedf = dataset['use']"
      ],
      "execution_count": 39,
      "outputs": []
    },
    {
      "cell_type": "code",
      "metadata": {
        "colab": {
          "base_uri": "https://localhost:8080/"
        },
        "id": "ii_unuwEvKNn",
        "outputId": "176be43a-fb0c-41a9-afbf-4b5a001c6869"
      },
      "source": [
        "usedf.head()"
      ],
      "execution_count": 40,
      "outputs": [
        {
          "output_type": "execute_result",
          "data": {
            "text/plain": [
              "2016-01-01    1.198482\n",
              "2016-01-02    1.285779\n",
              "2016-01-03    1.146617\n",
              "2016-01-04    1.042143\n",
              "2016-01-05    1.109701\n",
              "Freq: D, Name: use, dtype: float64"
            ]
          },
          "metadata": {
            "tags": []
          },
          "execution_count": 40
        }
      ]
    },
    {
      "cell_type": "code",
      "metadata": {
        "id": "N7MciQ_uxReH"
      },
      "source": [
        "usedf=usedf.to_frame()"
      ],
      "execution_count": 41,
      "outputs": []
    },
    {
      "cell_type": "code",
      "metadata": {
        "colab": {
          "base_uri": "https://localhost:8080/",
          "height": 204
        },
        "id": "Pqqth70hx9n4",
        "outputId": "29f5668f-438b-44e4-e02a-7f2c2f01fb63"
      },
      "source": [
        "usedf.head()"
      ],
      "execution_count": 42,
      "outputs": [
        {
          "output_type": "execute_result",
          "data": {
            "text/html": [
              "<div>\n",
              "<style scoped>\n",
              "    .dataframe tbody tr th:only-of-type {\n",
              "        vertical-align: middle;\n",
              "    }\n",
              "\n",
              "    .dataframe tbody tr th {\n",
              "        vertical-align: top;\n",
              "    }\n",
              "\n",
              "    .dataframe thead th {\n",
              "        text-align: right;\n",
              "    }\n",
              "</style>\n",
              "<table border=\"1\" class=\"dataframe\">\n",
              "  <thead>\n",
              "    <tr style=\"text-align: right;\">\n",
              "      <th></th>\n",
              "      <th>use</th>\n",
              "    </tr>\n",
              "  </thead>\n",
              "  <tbody>\n",
              "    <tr>\n",
              "      <th>2016-01-01</th>\n",
              "      <td>1.198482</td>\n",
              "    </tr>\n",
              "    <tr>\n",
              "      <th>2016-01-02</th>\n",
              "      <td>1.285779</td>\n",
              "    </tr>\n",
              "    <tr>\n",
              "      <th>2016-01-03</th>\n",
              "      <td>1.146617</td>\n",
              "    </tr>\n",
              "    <tr>\n",
              "      <th>2016-01-04</th>\n",
              "      <td>1.042143</td>\n",
              "    </tr>\n",
              "    <tr>\n",
              "      <th>2016-01-05</th>\n",
              "      <td>1.109701</td>\n",
              "    </tr>\n",
              "  </tbody>\n",
              "</table>\n",
              "</div>"
            ],
            "text/plain": [
              "                 use\n",
              "2016-01-01  1.198482\n",
              "2016-01-02  1.285779\n",
              "2016-01-03  1.146617\n",
              "2016-01-04  1.042143\n",
              "2016-01-05  1.109701"
            ]
          },
          "metadata": {
            "tags": []
          },
          "execution_count": 42
        }
      ]
    },
    {
      "cell_type": "code",
      "metadata": {
        "colab": {
          "base_uri": "https://localhost:8080/"
        },
        "id": "Los1X6XoyEgg",
        "outputId": "81f95786-367d-4df9-b604-92d1bd1f9732"
      },
      "source": [
        "usedf.info()"
      ],
      "execution_count": 43,
      "outputs": [
        {
          "output_type": "stream",
          "text": [
            "<class 'pandas.core.frame.DataFrame'>\n",
            "DatetimeIndex: 351 entries, 2016-01-01 to 2016-12-16\n",
            "Freq: D\n",
            "Data columns (total 1 columns):\n",
            " #   Column  Non-Null Count  Dtype  \n",
            "---  ------  --------------  -----  \n",
            " 0   use     351 non-null    float64\n",
            "dtypes: float64(1)\n",
            "memory usage: 5.5 KB\n"
          ],
          "name": "stdout"
        }
      ]
    },
    {
      "cell_type": "code",
      "metadata": {
        "id": "C_bryuNHyOQA"
      },
      "source": [
        "# This function is used to prepare the time-series data\r\n",
        "# according to the problem definition.\r\n",
        "def add_lags(series, times):\r\n",
        "  cols = []\r\n",
        "  column_index = []\r\n",
        "  for time in times:\r\n",
        "    cols.append(series.shift(-time))\r\n",
        "    lag_fmt = \"t+{time}\" if time > 0 else \"t{time}\" if time < 0 else \"t\"\r\n",
        "    column_index += [(lag_fmt.format(time=time), col_name)\r\n",
        "        for col_name in series.columns]\r\n",
        "  df = pd.concat(cols, axis=1)\r\n",
        "  df.columns = pd.MultiIndex.from_tuples(column_index)\r\n",
        "  return df"
      ],
      "execution_count": 44,
      "outputs": []
    },
    {
      "cell_type": "code",
      "metadata": {
        "id": "SpHlTp3KyOnd"
      },
      "source": [
        "X = add_lags(usedf, times=range(-30+1,1)).iloc[30:-5]\r\n",
        "y = add_lags(usedf, times=[5]).iloc[30:-5]"
      ],
      "execution_count": 45,
      "outputs": []
    },
    {
      "cell_type": "code",
      "metadata": {
        "colab": {
          "base_uri": "https://localhost:8080/",
          "height": 340
        },
        "id": "IzZo6hKsyOyb",
        "outputId": "1a30e9d6-c1d8-496b-d6c3-67504ac5b771"
      },
      "source": [
        "X.head()"
      ],
      "execution_count": 46,
      "outputs": [
        {
          "output_type": "execute_result",
          "data": {
            "text/html": [
              "<div>\n",
              "<style scoped>\n",
              "    .dataframe tbody tr th:only-of-type {\n",
              "        vertical-align: middle;\n",
              "    }\n",
              "\n",
              "    .dataframe tbody tr th {\n",
              "        vertical-align: top;\n",
              "    }\n",
              "\n",
              "    .dataframe thead tr th {\n",
              "        text-align: left;\n",
              "    }\n",
              "</style>\n",
              "<table border=\"1\" class=\"dataframe\">\n",
              "  <thead>\n",
              "    <tr>\n",
              "      <th></th>\n",
              "      <th>t-29</th>\n",
              "      <th>t-28</th>\n",
              "      <th>t-27</th>\n",
              "      <th>t-26</th>\n",
              "      <th>t-25</th>\n",
              "      <th>t-24</th>\n",
              "      <th>t-23</th>\n",
              "      <th>t-22</th>\n",
              "      <th>t-21</th>\n",
              "      <th>t-20</th>\n",
              "      <th>t-19</th>\n",
              "      <th>t-18</th>\n",
              "      <th>t-17</th>\n",
              "      <th>t-16</th>\n",
              "      <th>t-15</th>\n",
              "      <th>t-14</th>\n",
              "      <th>t-13</th>\n",
              "      <th>t-12</th>\n",
              "      <th>t-11</th>\n",
              "      <th>t-10</th>\n",
              "      <th>t-9</th>\n",
              "      <th>t-8</th>\n",
              "      <th>t-7</th>\n",
              "      <th>t-6</th>\n",
              "      <th>t-5</th>\n",
              "      <th>t-4</th>\n",
              "      <th>t-3</th>\n",
              "      <th>t-2</th>\n",
              "      <th>t-1</th>\n",
              "      <th>t</th>\n",
              "    </tr>\n",
              "    <tr>\n",
              "      <th></th>\n",
              "      <th>use</th>\n",
              "      <th>use</th>\n",
              "      <th>use</th>\n",
              "      <th>use</th>\n",
              "      <th>use</th>\n",
              "      <th>use</th>\n",
              "      <th>use</th>\n",
              "      <th>use</th>\n",
              "      <th>use</th>\n",
              "      <th>use</th>\n",
              "      <th>use</th>\n",
              "      <th>use</th>\n",
              "      <th>use</th>\n",
              "      <th>use</th>\n",
              "      <th>use</th>\n",
              "      <th>use</th>\n",
              "      <th>use</th>\n",
              "      <th>use</th>\n",
              "      <th>use</th>\n",
              "      <th>use</th>\n",
              "      <th>use</th>\n",
              "      <th>use</th>\n",
              "      <th>use</th>\n",
              "      <th>use</th>\n",
              "      <th>use</th>\n",
              "      <th>use</th>\n",
              "      <th>use</th>\n",
              "      <th>use</th>\n",
              "      <th>use</th>\n",
              "      <th>use</th>\n",
              "    </tr>\n",
              "  </thead>\n",
              "  <tbody>\n",
              "    <tr>\n",
              "      <th>2016-01-31</th>\n",
              "      <td>1.285779</td>\n",
              "      <td>1.146617</td>\n",
              "      <td>1.042143</td>\n",
              "      <td>1.109701</td>\n",
              "      <td>0.880044</td>\n",
              "      <td>0.964197</td>\n",
              "      <td>1.100592</td>\n",
              "      <td>0.905353</td>\n",
              "      <td>1.137600</td>\n",
              "      <td>1.108112</td>\n",
              "      <td>1.087707</td>\n",
              "      <td>1.057835</td>\n",
              "      <td>0.972452</td>\n",
              "      <td>0.849664</td>\n",
              "      <td>1.011319</td>\n",
              "      <td>1.111196</td>\n",
              "      <td>1.559358</td>\n",
              "      <td>1.338234</td>\n",
              "      <td>0.947373</td>\n",
              "      <td>0.871978</td>\n",
              "      <td>0.972101</td>\n",
              "      <td>1.257965</td>\n",
              "      <td>1.001793</td>\n",
              "      <td>0.919517</td>\n",
              "      <td>1.025885</td>\n",
              "      <td>0.689653</td>\n",
              "      <td>0.942827</td>\n",
              "      <td>0.946987</td>\n",
              "      <td>0.859326</td>\n",
              "      <td>1.070224</td>\n",
              "    </tr>\n",
              "    <tr>\n",
              "      <th>2016-02-01</th>\n",
              "      <td>1.146617</td>\n",
              "      <td>1.042143</td>\n",
              "      <td>1.109701</td>\n",
              "      <td>0.880044</td>\n",
              "      <td>0.964197</td>\n",
              "      <td>1.100592</td>\n",
              "      <td>0.905353</td>\n",
              "      <td>1.137600</td>\n",
              "      <td>1.108112</td>\n",
              "      <td>1.087707</td>\n",
              "      <td>1.057835</td>\n",
              "      <td>0.972452</td>\n",
              "      <td>0.849664</td>\n",
              "      <td>1.011319</td>\n",
              "      <td>1.111196</td>\n",
              "      <td>1.559358</td>\n",
              "      <td>1.338234</td>\n",
              "      <td>0.947373</td>\n",
              "      <td>0.871978</td>\n",
              "      <td>0.972101</td>\n",
              "      <td>1.257965</td>\n",
              "      <td>1.001793</td>\n",
              "      <td>0.919517</td>\n",
              "      <td>1.025885</td>\n",
              "      <td>0.689653</td>\n",
              "      <td>0.942827</td>\n",
              "      <td>0.946987</td>\n",
              "      <td>0.859326</td>\n",
              "      <td>1.070224</td>\n",
              "      <td>1.033505</td>\n",
              "    </tr>\n",
              "    <tr>\n",
              "      <th>2016-02-02</th>\n",
              "      <td>1.042143</td>\n",
              "      <td>1.109701</td>\n",
              "      <td>0.880044</td>\n",
              "      <td>0.964197</td>\n",
              "      <td>1.100592</td>\n",
              "      <td>0.905353</td>\n",
              "      <td>1.137600</td>\n",
              "      <td>1.108112</td>\n",
              "      <td>1.087707</td>\n",
              "      <td>1.057835</td>\n",
              "      <td>0.972452</td>\n",
              "      <td>0.849664</td>\n",
              "      <td>1.011319</td>\n",
              "      <td>1.111196</td>\n",
              "      <td>1.559358</td>\n",
              "      <td>1.338234</td>\n",
              "      <td>0.947373</td>\n",
              "      <td>0.871978</td>\n",
              "      <td>0.972101</td>\n",
              "      <td>1.257965</td>\n",
              "      <td>1.001793</td>\n",
              "      <td>0.919517</td>\n",
              "      <td>1.025885</td>\n",
              "      <td>0.689653</td>\n",
              "      <td>0.942827</td>\n",
              "      <td>0.946987</td>\n",
              "      <td>0.859326</td>\n",
              "      <td>1.070224</td>\n",
              "      <td>1.033505</td>\n",
              "      <td>0.725450</td>\n",
              "    </tr>\n",
              "    <tr>\n",
              "      <th>2016-02-03</th>\n",
              "      <td>1.109701</td>\n",
              "      <td>0.880044</td>\n",
              "      <td>0.964197</td>\n",
              "      <td>1.100592</td>\n",
              "      <td>0.905353</td>\n",
              "      <td>1.137600</td>\n",
              "      <td>1.108112</td>\n",
              "      <td>1.087707</td>\n",
              "      <td>1.057835</td>\n",
              "      <td>0.972452</td>\n",
              "      <td>0.849664</td>\n",
              "      <td>1.011319</td>\n",
              "      <td>1.111196</td>\n",
              "      <td>1.559358</td>\n",
              "      <td>1.338234</td>\n",
              "      <td>0.947373</td>\n",
              "      <td>0.871978</td>\n",
              "      <td>0.972101</td>\n",
              "      <td>1.257965</td>\n",
              "      <td>1.001793</td>\n",
              "      <td>0.919517</td>\n",
              "      <td>1.025885</td>\n",
              "      <td>0.689653</td>\n",
              "      <td>0.942827</td>\n",
              "      <td>0.946987</td>\n",
              "      <td>0.859326</td>\n",
              "      <td>1.070224</td>\n",
              "      <td>1.033505</td>\n",
              "      <td>0.725450</td>\n",
              "      <td>0.789036</td>\n",
              "    </tr>\n",
              "    <tr>\n",
              "      <th>2016-02-04</th>\n",
              "      <td>0.880044</td>\n",
              "      <td>0.964197</td>\n",
              "      <td>1.100592</td>\n",
              "      <td>0.905353</td>\n",
              "      <td>1.137600</td>\n",
              "      <td>1.108112</td>\n",
              "      <td>1.087707</td>\n",
              "      <td>1.057835</td>\n",
              "      <td>0.972452</td>\n",
              "      <td>0.849664</td>\n",
              "      <td>1.011319</td>\n",
              "      <td>1.111196</td>\n",
              "      <td>1.559358</td>\n",
              "      <td>1.338234</td>\n",
              "      <td>0.947373</td>\n",
              "      <td>0.871978</td>\n",
              "      <td>0.972101</td>\n",
              "      <td>1.257965</td>\n",
              "      <td>1.001793</td>\n",
              "      <td>0.919517</td>\n",
              "      <td>1.025885</td>\n",
              "      <td>0.689653</td>\n",
              "      <td>0.942827</td>\n",
              "      <td>0.946987</td>\n",
              "      <td>0.859326</td>\n",
              "      <td>1.070224</td>\n",
              "      <td>1.033505</td>\n",
              "      <td>0.725450</td>\n",
              "      <td>0.789036</td>\n",
              "      <td>0.584781</td>\n",
              "    </tr>\n",
              "  </tbody>\n",
              "</table>\n",
              "</div>"
            ],
            "text/plain": [
              "                t-29      t-28      t-27  ...       t-2       t-1         t\n",
              "                 use       use       use  ...       use       use       use\n",
              "2016-01-31  1.285779  1.146617  1.042143  ...  0.946987  0.859326  1.070224\n",
              "2016-02-01  1.146617  1.042143  1.109701  ...  0.859326  1.070224  1.033505\n",
              "2016-02-02  1.042143  1.109701  0.880044  ...  1.070224  1.033505  0.725450\n",
              "2016-02-03  1.109701  0.880044  0.964197  ...  1.033505  0.725450  0.789036\n",
              "2016-02-04  0.880044  0.964197  1.100592  ...  0.725450  0.789036  0.584781\n",
              "\n",
              "[5 rows x 30 columns]"
            ]
          },
          "metadata": {
            "tags": []
          },
          "execution_count": 46
        }
      ]
    },
    {
      "cell_type": "code",
      "metadata": {
        "colab": {
          "base_uri": "https://localhost:8080/",
          "height": 235
        },
        "id": "9dYRhOC5yZPs",
        "outputId": "cda0fcee-3ed1-4e0a-f855-419872324dbd"
      },
      "source": [
        "y.head()"
      ],
      "execution_count": 47,
      "outputs": [
        {
          "output_type": "execute_result",
          "data": {
            "text/html": [
              "<div>\n",
              "<style scoped>\n",
              "    .dataframe tbody tr th:only-of-type {\n",
              "        vertical-align: middle;\n",
              "    }\n",
              "\n",
              "    .dataframe tbody tr th {\n",
              "        vertical-align: top;\n",
              "    }\n",
              "\n",
              "    .dataframe thead tr th {\n",
              "        text-align: left;\n",
              "    }\n",
              "</style>\n",
              "<table border=\"1\" class=\"dataframe\">\n",
              "  <thead>\n",
              "    <tr>\n",
              "      <th></th>\n",
              "      <th>t+5</th>\n",
              "    </tr>\n",
              "    <tr>\n",
              "      <th></th>\n",
              "      <th>use</th>\n",
              "    </tr>\n",
              "  </thead>\n",
              "  <tbody>\n",
              "    <tr>\n",
              "      <th>2016-01-31</th>\n",
              "      <td>0.872563</td>\n",
              "    </tr>\n",
              "    <tr>\n",
              "      <th>2016-02-01</th>\n",
              "      <td>0.823736</td>\n",
              "    </tr>\n",
              "    <tr>\n",
              "      <th>2016-02-02</th>\n",
              "      <td>0.739130</td>\n",
              "    </tr>\n",
              "    <tr>\n",
              "      <th>2016-02-03</th>\n",
              "      <td>1.480771</td>\n",
              "    </tr>\n",
              "    <tr>\n",
              "      <th>2016-02-04</th>\n",
              "      <td>1.011274</td>\n",
              "    </tr>\n",
              "  </tbody>\n",
              "</table>\n",
              "</div>"
            ],
            "text/plain": [
              "                 t+5\n",
              "                 use\n",
              "2016-01-31  0.872563\n",
              "2016-02-01  0.823736\n",
              "2016-02-02  0.739130\n",
              "2016-02-03  1.480771\n",
              "2016-02-04  1.011274"
            ]
          },
          "metadata": {
            "tags": []
          },
          "execution_count": 47
        }
      ]
    },
    {
      "cell_type": "code",
      "metadata": {
        "id": "UUGTJahQyeG1"
      },
      "source": [
        "train_slice = slice(None, \"2016-10-30\")"
      ],
      "execution_count": 48,
      "outputs": []
    },
    {
      "cell_type": "code",
      "metadata": {
        "id": "74wlblfXyeLN"
      },
      "source": [
        "test_slice = slice(\"2016-11-1\", None)"
      ],
      "execution_count": 49,
      "outputs": []
    },
    {
      "cell_type": "code",
      "metadata": {
        "id": "9PSbaNYMyePQ"
      },
      "source": [
        "# Split the dataset into 80% training and 20% testing as follows\r\n",
        "X_train, y_train = X.loc[train_slice], y.loc[train_slice]\r\n",
        "X_test, y_test = X.loc[test_slice], y.loc[test_slice]"
      ],
      "execution_count": 50,
      "outputs": []
    },
    {
      "cell_type": "code",
      "metadata": {
        "colab": {
          "base_uri": "https://localhost:8080/"
        },
        "id": "OwzFk6_eyeQ6",
        "outputId": "eb08da1b-06cb-493f-da96-a38a76483df8"
      },
      "source": [
        "print(X_train.shape)"
      ],
      "execution_count": 51,
      "outputs": [
        {
          "output_type": "stream",
          "text": [
            "(274, 30)\n"
          ],
          "name": "stdout"
        }
      ]
    },
    {
      "cell_type": "code",
      "metadata": {
        "colab": {
          "base_uri": "https://localhost:8080/"
        },
        "id": "Dmr8ACZUyeUy",
        "outputId": "a8f61083-029c-40ba-f97c-1a6caa2a3381"
      },
      "source": [
        "print(X_test.shape)"
      ],
      "execution_count": 52,
      "outputs": [
        {
          "output_type": "stream",
          "text": [
            "(41, 30)\n"
          ],
          "name": "stdout"
        }
      ]
    },
    {
      "cell_type": "code",
      "metadata": {
        "id": "MKEbRtt6yeW0"
      },
      "source": [
        "def multilevel_df_to_ndarray(df):\r\n",
        "  shape = [-1] + [len(level) for level in df.columns.remove_unused_levels().levels]\r\n",
        "  return df.values.reshape(shape)"
      ],
      "execution_count": 53,
      "outputs": []
    },
    {
      "cell_type": "code",
      "metadata": {
        "id": "dcVQCtgHyebG"
      },
      "source": [
        "X_train_3D = multilevel_df_to_ndarray(X_train)\r\n",
        "X_test_3D = multilevel_df_to_ndarray(X_test)"
      ],
      "execution_count": 54,
      "outputs": []
    },
    {
      "cell_type": "code",
      "metadata": {
        "colab": {
          "base_uri": "https://localhost:8080/"
        },
        "id": "TWUm33Jty-Lu",
        "outputId": "3c2dc8e3-69c1-481e-8168-3ffc8e066446"
      },
      "source": [
        "print(X_train_3D.shape)"
      ],
      "execution_count": 55,
      "outputs": [
        {
          "output_type": "stream",
          "text": [
            "(274, 30, 1)\n"
          ],
          "name": "stdout"
        }
      ]
    },
    {
      "cell_type": "code",
      "metadata": {
        "colab": {
          "base_uri": "https://localhost:8080/"
        },
        "id": "YAEM12m3y-UZ",
        "outputId": "efe61646-3c1e-4fc9-8500-8ac5b15760e7"
      },
      "source": [
        "print(X_test_3D.shape)"
      ],
      "execution_count": 56,
      "outputs": [
        {
          "output_type": "stream",
          "text": [
            "(41, 30, 1)\n"
          ],
          "name": "stdout"
        }
      ]
    },
    {
      "cell_type": "code",
      "metadata": {
        "id": "Cwfb4GbOy-WD"
      },
      "source": [
        "y_train = y_train.values\r\n",
        "y_test = y_test.values"
      ],
      "execution_count": 57,
      "outputs": []
    },
    {
      "cell_type": "code",
      "metadata": {
        "colab": {
          "base_uri": "https://localhost:8080/"
        },
        "id": "-z2WNsTLy-cD",
        "outputId": "bd7ff640-81fb-4ffe-b97b-ad7c379905ca"
      },
      "source": [
        "print(y_train.shape)"
      ],
      "execution_count": 58,
      "outputs": [
        {
          "output_type": "stream",
          "text": [
            "(274, 1)\n"
          ],
          "name": "stdout"
        }
      ]
    },
    {
      "cell_type": "code",
      "metadata": {
        "colab": {
          "base_uri": "https://localhost:8080/"
        },
        "id": "qmahEOUcy-hN",
        "outputId": "8294759f-c772-485c-9e9c-e14a3e7d9ab0"
      },
      "source": [
        "print(y_test.shape)"
      ],
      "execution_count": 59,
      "outputs": [
        {
          "output_type": "stream",
          "text": [
            "(41, 1)\n"
          ],
          "name": "stdout"
        }
      ]
    },
    {
      "cell_type": "code",
      "metadata": {
        "colab": {
          "base_uri": "https://localhost:8080/"
        },
        "id": "36ol9_TZzOnT",
        "outputId": "c33d58ec-40ce-40f2-a8d8-70c745464cef"
      },
      "source": [
        "model_LSTM = keras.models.Sequential()\r\n",
        "model_LSTM.add(keras.layers.LSTM(units = 100, return_sequences = True,input_shape = X_train_3D.shape[1:]))\r\n",
        "model_LSTM.add(keras.layers.LSTM(units = 50))\r\n",
        "model_LSTM.add(keras.layers.Dense(1))\r\n",
        "model_LSTM.summary()\r\n"
      ],
      "execution_count": 60,
      "outputs": [
        {
          "output_type": "stream",
          "text": [
            "Model: \"sequential\"\n",
            "_________________________________________________________________\n",
            "Layer (type)                 Output Shape              Param #   \n",
            "=================================================================\n",
            "lstm (LSTM)                  (None, 30, 100)           40800     \n",
            "_________________________________________________________________\n",
            "lstm_1 (LSTM)                (None, 50)                30200     \n",
            "_________________________________________________________________\n",
            "dense (Dense)                (None, 1)                 51        \n",
            "=================================================================\n",
            "Total params: 71,051\n",
            "Trainable params: 71,051\n",
            "Non-trainable params: 0\n",
            "_________________________________________________________________\n"
          ],
          "name": "stdout"
        }
      ]
    },
    {
      "cell_type": "markdown",
      "metadata": {
        "id": "QibSe_VXzVWw"
      },
      "source": [
        "The number of parameters of LSTM:\r\n",
        "Input vectors of size m \r\n",
        "Output vectors of size n \r\n",
        "4(nm + n^2 )\r\n",
        "LSTM with  bias vectors: 4(nm + n^2 + n) (default in keras )\r\n",
        "\r\n",
        "=4 ( 100 x 1 + 100x100 + 100) = 4x 10200 = 40,800\r\n",
        "\r\n",
        "= 4 (50 x 100 + 50x50 +50) = 4x7500 = 30200\r\n",
        "\r\n",
        "= 50 + 1 = 51"
      ]
    },
    {
      "cell_type": "code",
      "metadata": {
        "id": "-K33Uxt8zOv7"
      },
      "source": [
        "model_LSTM.compile(loss='mse', optimizer='adam', metrics=['mae'])"
      ],
      "execution_count": 61,
      "outputs": []
    },
    {
      "cell_type": "code",
      "metadata": {
        "colab": {
          "base_uri": "https://localhost:8080/"
        },
        "id": "_aKpYsGNzO5L",
        "outputId": "951ec8eb-65ab-41df-842b-9d10d0653f8f"
      },
      "source": [
        "history_LSTM = model_LSTM.fit(x=X_train_3D, y=y_train,epochs=50, validation_split=0.1, batch_size=32)"
      ],
      "execution_count": 62,
      "outputs": [
        {
          "output_type": "stream",
          "text": [
            "Epoch 1/50\n",
            "8/8 [==============================] - 4s 156ms/step - loss: 0.6179 - mae: 0.5590 - val_loss: 0.0598 - val_mae: 0.2023\n",
            "Epoch 2/50\n",
            "8/8 [==============================] - 0s 35ms/step - loss: 0.2759 - mae: 0.3567 - val_loss: 0.0360 - val_mae: 0.1530\n",
            "Epoch 3/50\n",
            "8/8 [==============================] - 0s 33ms/step - loss: 0.2529 - mae: 0.3193 - val_loss: 0.0515 - val_mae: 0.1865\n",
            "Epoch 4/50\n",
            "8/8 [==============================] - 0s 31ms/step - loss: 0.2204 - mae: 0.3365 - val_loss: 0.0333 - val_mae: 0.1517\n",
            "Epoch 5/50\n",
            "8/8 [==============================] - 0s 53ms/step - loss: 0.2771 - mae: 0.3402 - val_loss: 0.0363 - val_mae: 0.1560\n",
            "Epoch 6/50\n",
            "8/8 [==============================] - 0s 30ms/step - loss: 0.2355 - mae: 0.3161 - val_loss: 0.0351 - val_mae: 0.1543\n",
            "Epoch 7/50\n",
            "8/8 [==============================] - 0s 30ms/step - loss: 0.3028 - mae: 0.3568 - val_loss: 0.0359 - val_mae: 0.1554\n",
            "Epoch 8/50\n",
            "8/8 [==============================] - 0s 29ms/step - loss: 0.2708 - mae: 0.3363 - val_loss: 0.0328 - val_mae: 0.1515\n",
            "Epoch 9/50\n",
            "8/8 [==============================] - 0s 31ms/step - loss: 0.2294 - mae: 0.3067 - val_loss: 0.0408 - val_mae: 0.1656\n",
            "Epoch 10/50\n",
            "8/8 [==============================] - 0s 31ms/step - loss: 0.2129 - mae: 0.3101 - val_loss: 0.0325 - val_mae: 0.1516\n",
            "Epoch 11/50\n",
            "8/8 [==============================] - 0s 30ms/step - loss: 0.2498 - mae: 0.3278 - val_loss: 0.0387 - val_mae: 0.1609\n",
            "Epoch 12/50\n",
            "8/8 [==============================] - 0s 30ms/step - loss: 0.2389 - mae: 0.3195 - val_loss: 0.0375 - val_mae: 0.1584\n",
            "Epoch 13/50\n",
            "8/8 [==============================] - 0s 30ms/step - loss: 0.2254 - mae: 0.3108 - val_loss: 0.0314 - val_mae: 0.1503\n",
            "Epoch 14/50\n",
            "8/8 [==============================] - 0s 31ms/step - loss: 0.2927 - mae: 0.3493 - val_loss: 0.0444 - val_mae: 0.1731\n",
            "Epoch 15/50\n",
            "8/8 [==============================] - 0s 31ms/step - loss: 0.2641 - mae: 0.3505 - val_loss: 0.0318 - val_mae: 0.1515\n",
            "Epoch 16/50\n",
            "8/8 [==============================] - 0s 30ms/step - loss: 0.2282 - mae: 0.3159 - val_loss: 0.0388 - val_mae: 0.1613\n",
            "Epoch 17/50\n",
            "8/8 [==============================] - 0s 29ms/step - loss: 0.2575 - mae: 0.3425 - val_loss: 0.0328 - val_mae: 0.1541\n",
            "Epoch 18/50\n",
            "8/8 [==============================] - 0s 29ms/step - loss: 0.2051 - mae: 0.2950 - val_loss: 0.0361 - val_mae: 0.1576\n",
            "Epoch 19/50\n",
            "8/8 [==============================] - 0s 31ms/step - loss: 0.1983 - mae: 0.3137 - val_loss: 0.0403 - val_mae: 0.1636\n",
            "Epoch 20/50\n",
            "8/8 [==============================] - 0s 34ms/step - loss: 0.2847 - mae: 0.3526 - val_loss: 0.0322 - val_mae: 0.1518\n",
            "Epoch 21/50\n",
            "8/8 [==============================] - 0s 42ms/step - loss: 0.2041 - mae: 0.2891 - val_loss: 0.0416 - val_mae: 0.1664\n",
            "Epoch 22/50\n",
            "8/8 [==============================] - 0s 30ms/step - loss: 0.2634 - mae: 0.3657 - val_loss: 0.0341 - val_mae: 0.1584\n",
            "Epoch 23/50\n",
            "8/8 [==============================] - 0s 34ms/step - loss: 0.2185 - mae: 0.3270 - val_loss: 0.0389 - val_mae: 0.1623\n",
            "Epoch 24/50\n",
            "8/8 [==============================] - 0s 32ms/step - loss: 0.2325 - mae: 0.3439 - val_loss: 0.0467 - val_mae: 0.1755\n",
            "Epoch 25/50\n",
            "8/8 [==============================] - 0s 33ms/step - loss: 0.2877 - mae: 0.3583 - val_loss: 0.0340 - val_mae: 0.1567\n",
            "Epoch 26/50\n",
            "8/8 [==============================] - 0s 31ms/step - loss: 0.2186 - mae: 0.3022 - val_loss: 0.0444 - val_mae: 0.1698\n",
            "Epoch 27/50\n",
            "8/8 [==============================] - 0s 31ms/step - loss: 0.2468 - mae: 0.3479 - val_loss: 0.0416 - val_mae: 0.1680\n",
            "Epoch 28/50\n",
            "8/8 [==============================] - 0s 32ms/step - loss: 0.2532 - mae: 0.3452 - val_loss: 0.0423 - val_mae: 0.1697\n",
            "Epoch 29/50\n",
            "8/8 [==============================] - 0s 31ms/step - loss: 0.2253 - mae: 0.3189 - val_loss: 0.0442 - val_mae: 0.1713\n",
            "Epoch 30/50\n",
            "8/8 [==============================] - 0s 30ms/step - loss: 0.2370 - mae: 0.3277 - val_loss: 0.0424 - val_mae: 0.1707\n",
            "Epoch 31/50\n",
            "8/8 [==============================] - 0s 32ms/step - loss: 0.2289 - mae: 0.3327 - val_loss: 0.0405 - val_mae: 0.1727\n",
            "Epoch 32/50\n",
            "8/8 [==============================] - 0s 31ms/step - loss: 0.2303 - mae: 0.3290 - val_loss: 0.0423 - val_mae: 0.1727\n",
            "Epoch 33/50\n",
            "8/8 [==============================] - 0s 31ms/step - loss: 0.2371 - mae: 0.3364 - val_loss: 0.0413 - val_mae: 0.1703\n",
            "Epoch 34/50\n",
            "8/8 [==============================] - 0s 31ms/step - loss: 0.2333 - mae: 0.3261 - val_loss: 0.0390 - val_mae: 0.1706\n",
            "Epoch 35/50\n",
            "8/8 [==============================] - 0s 32ms/step - loss: 0.2890 - mae: 0.3691 - val_loss: 0.0383 - val_mae: 0.1687\n",
            "Epoch 36/50\n",
            "8/8 [==============================] - 0s 31ms/step - loss: 0.2221 - mae: 0.3248 - val_loss: 0.0382 - val_mae: 0.1654\n",
            "Epoch 37/50\n",
            "8/8 [==============================] - 0s 31ms/step - loss: 0.1940 - mae: 0.3073 - val_loss: 0.0394 - val_mae: 0.1660\n",
            "Epoch 38/50\n",
            "8/8 [==============================] - 0s 32ms/step - loss: 0.2002 - mae: 0.3027 - val_loss: 0.0632 - val_mae: 0.2011\n",
            "Epoch 39/50\n",
            "8/8 [==============================] - 0s 32ms/step - loss: 0.2319 - mae: 0.3428 - val_loss: 0.0396 - val_mae: 0.1710\n",
            "Epoch 40/50\n",
            "8/8 [==============================] - 0s 32ms/step - loss: 0.1634 - mae: 0.2801 - val_loss: 0.0405 - val_mae: 0.1663\n",
            "Epoch 41/50\n",
            "8/8 [==============================] - 0s 32ms/step - loss: 0.1986 - mae: 0.3093 - val_loss: 0.0363 - val_mae: 0.1640\n",
            "Epoch 42/50\n",
            "8/8 [==============================] - 0s 40ms/step - loss: 0.2178 - mae: 0.3203 - val_loss: 0.0361 - val_mae: 0.1602\n",
            "Epoch 43/50\n",
            "8/8 [==============================] - 0s 32ms/step - loss: 0.1799 - mae: 0.2924 - val_loss: 0.0368 - val_mae: 0.1598\n",
            "Epoch 44/50\n",
            "8/8 [==============================] - 0s 31ms/step - loss: 0.2011 - mae: 0.2977 - val_loss: 0.0375 - val_mae: 0.1637\n",
            "Epoch 45/50\n",
            "8/8 [==============================] - 0s 31ms/step - loss: 0.1895 - mae: 0.2862 - val_loss: 0.0398 - val_mae: 0.1656\n",
            "Epoch 46/50\n",
            "8/8 [==============================] - 0s 29ms/step - loss: 0.2145 - mae: 0.3365 - val_loss: 0.0445 - val_mae: 0.1702\n",
            "Epoch 47/50\n",
            "8/8 [==============================] - 0s 29ms/step - loss: 0.2467 - mae: 0.3166 - val_loss: 0.0798 - val_mae: 0.2351\n",
            "Epoch 48/50\n",
            "8/8 [==============================] - 0s 30ms/step - loss: 0.2102 - mae: 0.3513 - val_loss: 0.0351 - val_mae: 0.1563\n",
            "Epoch 49/50\n",
            "8/8 [==============================] - 0s 29ms/step - loss: 0.1874 - mae: 0.2984 - val_loss: 0.0339 - val_mae: 0.1522\n",
            "Epoch 50/50\n",
            "8/8 [==============================] - 0s 33ms/step - loss: 0.1923 - mae: 0.3111 - val_loss: 0.0368 - val_mae: 0.1595\n"
          ],
          "name": "stdout"
        }
      ]
    },
    {
      "cell_type": "code",
      "metadata": {
        "colab": {
          "base_uri": "https://localhost:8080/"
        },
        "id": "u_7baUF-zPBZ",
        "outputId": "691a3bb6-5bf1-4031-b8de-3c68edf3f57e"
      },
      "source": [
        "test_loss, test_mae = model_LSTM.evaluate(x=X_test_3D, y=y_test)"
      ],
      "execution_count": 63,
      "outputs": [
        {
          "output_type": "stream",
          "text": [
            "2/2 [==============================] - 0s 7ms/step - loss: 0.0504 - mae: 0.1612\n"
          ],
          "name": "stdout"
        }
      ]
    },
    {
      "cell_type": "code",
      "metadata": {
        "colab": {
          "base_uri": "https://localhost:8080/"
        },
        "id": "tYUpfDYnzPIM",
        "outputId": "1012ef15-ec16-4d6e-82b0-1143774120a3"
      },
      "source": [
        "print(test_loss, test_mae)"
      ],
      "execution_count": 64,
      "outputs": [
        {
          "output_type": "stream",
          "text": [
            "0.05036124959588051 0.16120696067810059\n"
          ],
          "name": "stdout"
        }
      ]
    },
    {
      "cell_type": "markdown",
      "metadata": {
        "id": "c6CwATU7Ku32"
      },
      "source": [
        "#Exercise: Hyper Parameter Tuning"
      ]
    },
    {
      "cell_type": "code",
      "metadata": {
        "colab": {
          "base_uri": "https://localhost:8080/"
        },
        "id": "mQSBzG8WJ85_",
        "outputId": "043d65cb-15f7-4e3d-9ab1-17ed64df302f"
      },
      "source": [
        "model_LSTM = keras.models.Sequential()\r\n",
        "model_LSTM.add(keras.layers.LSTM(units = 100, return_sequences = True,input_shape = X_train_3D.shape[1:]))\r\n",
        "model_LSTM.add(keras.layers.LSTM(units = 50))\r\n",
        "model_LSTM.add(keras.layers.Dense(1))\r\n",
        "model_LSTM.summary()\r\n"
      ],
      "execution_count": 65,
      "outputs": [
        {
          "output_type": "stream",
          "text": [
            "Model: \"sequential_1\"\n",
            "_________________________________________________________________\n",
            "Layer (type)                 Output Shape              Param #   \n",
            "=================================================================\n",
            "lstm_2 (LSTM)                (None, 30, 100)           40800     \n",
            "_________________________________________________________________\n",
            "lstm_3 (LSTM)                (None, 50)                30200     \n",
            "_________________________________________________________________\n",
            "dense_1 (Dense)              (None, 1)                 51        \n",
            "=================================================================\n",
            "Total params: 71,051\n",
            "Trainable params: 71,051\n",
            "Non-trainable params: 0\n",
            "_________________________________________________________________\n"
          ],
          "name": "stdout"
        }
      ]
    }
  ]
}